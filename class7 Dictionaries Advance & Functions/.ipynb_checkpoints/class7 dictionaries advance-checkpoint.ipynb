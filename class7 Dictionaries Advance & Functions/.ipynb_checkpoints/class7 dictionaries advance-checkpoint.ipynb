{
 "cells": [
  {
   "cell_type": "code",
   "execution_count": 2,
   "id": "d0288013-6924-4897-8743-10dcc9e2d0ef",
   "metadata": {},
   "outputs": [],
   "source": [
    "personal_bio = {\"first_name\": \"Qasim\", \n",
    "                \"last_name\": \"Hassan\",\n",
    "                \"address\": \"karachi, Pakistan\"}"
   ]
  },
  {
   "cell_type": "code",
   "execution_count": 4,
   "id": "c07ce65f-0f97-4087-8e41-b361bd7ff468",
   "metadata": {},
   "outputs": [
    {
     "data": {
      "text/plain": [
       "dict_keys(['first_name', 'last_name', 'address'])"
      ]
     },
     "execution_count": 4,
     "metadata": {},
     "output_type": "execute_result"
    }
   ],
   "source": [
    "personal_bio.keys()"
   ]
  },
  {
   "cell_type": "code",
   "execution_count": 5,
   "id": "f2b952b9-d031-4f2b-a7ed-4a31ac22b8bc",
   "metadata": {},
   "outputs": [
    {
     "data": {
      "text/plain": [
       "dict_values(['Qasim', 'Hassan', 'karachi, Pakistan'])"
      ]
     },
     "execution_count": 5,
     "metadata": {},
     "output_type": "execute_result"
    }
   ],
   "source": [
    "personal_bio.values()"
   ]
  },
  {
   "cell_type": "code",
   "execution_count": 10,
   "id": "c130418f-391a-4813-b312-738da9ee9151",
   "metadata": {},
   "outputs": [
    {
     "data": {
      "text/plain": [
       "dict_items([('first_name', 'Qasim'), ('last_name', 'Hassan'), ('address', 'karachi, Pakistan')])"
      ]
     },
     "execution_count": 10,
     "metadata": {},
     "output_type": "execute_result"
    }
   ],
   "source": [
    "personal_bio.items()"
   ]
  },
  {
   "cell_type": "code",
   "execution_count": 11,
   "id": "da9c5ed6-2793-4c57-ae31-da1ec1bb98e5",
   "metadata": {},
   "outputs": [
    {
     "ename": "TypeError",
     "evalue": "'dict_items' object is not subscriptable",
     "output_type": "error",
     "traceback": [
      "\u001b[1;31m---------------------------------------------------------------------------\u001b[0m",
      "\u001b[1;31mTypeError\u001b[0m                                 Traceback (most recent call last)",
      "Cell \u001b[1;32mIn[11], line 1\u001b[0m\n\u001b[1;32m----> 1\u001b[0m \u001b[43mpersonal_bio\u001b[49m\u001b[38;5;241;43m.\u001b[39;49m\u001b[43mitems\u001b[49m\u001b[43m(\u001b[49m\u001b[43m)\u001b[49m\u001b[43m[\u001b[49m\u001b[38;5;241;43m0\u001b[39;49m\u001b[43m]\u001b[49m\n",
      "\u001b[1;31mTypeError\u001b[0m: 'dict_items' object is not subscriptable"
     ]
    }
   ],
   "source": [
    "personal_bio.items()[0]"
   ]
  },
  {
   "cell_type": "code",
   "execution_count": 18,
   "id": "2854525b-8bf8-4585-97af-62f9d422c0d8",
   "metadata": {},
   "outputs": [
    {
     "data": {
      "text/plain": [
       "dict_items"
      ]
     },
     "execution_count": 18,
     "metadata": {},
     "output_type": "execute_result"
    }
   ],
   "source": [
    "type(personal_bio.items()) # dicti_item not subscriptable/unhasable"
   ]
  },
  {
   "cell_type": "code",
   "execution_count": 20,
   "id": "4fd7042b-bc6a-4065-95be-fb9e3edc300f",
   "metadata": {},
   "outputs": [
    {
     "data": {
      "text/plain": [
       "'first_name'"
      ]
     },
     "execution_count": 20,
     "metadata": {},
     "output_type": "execute_result"
    }
   ],
   "source": [
    "list(personal_bio.items())[0][0]"
   ]
  },
  {
   "cell_type": "code",
   "execution_count": 16,
   "id": "a7e6460e-4a2f-45bc-ba09-643e8b39cd57",
   "metadata": {},
   "outputs": [
    {
     "name": "stdout",
     "output_type": "stream",
     "text": [
      "Keys is \"first_name\" and value is \"Qasim\"\n",
      "Keys is \"last_name\" and value is \"Hassan\"\n",
      "Keys is \"address\" and value is \"karachi, Pakistan\"\n"
     ]
    }
   ],
   "source": [
    "for key, value in personal_bio.items():\n",
    "    print(f\"Keys is \\\"{key}\\\" and value is \\\"{value}\\\"\")"
   ]
  },
  {
   "cell_type": "code",
   "execution_count": 22,
   "id": "67c1fd7c-20f2-40c9-ad10-2d52239bacde",
   "metadata": {},
   "outputs": [],
   "source": [
    "bio_list = [personal_bio]"
   ]
  },
  {
   "cell_type": "code",
   "execution_count": 23,
   "id": "ad59481e-1f66-4883-9ac2-eb7121d54b65",
   "metadata": {},
   "outputs": [
    {
     "data": {
      "text/plain": [
       "[{'first_name': 'Qasim',\n",
       "  'last_name': 'Hassan',\n",
       "  'address': 'karachi, Pakistan'}]"
      ]
     },
     "execution_count": 23,
     "metadata": {},
     "output_type": "execute_result"
    }
   ],
   "source": [
    "bio_list"
   ]
  },
  {
   "cell_type": "code",
   "execution_count": 1,
   "id": "14b2c779-a3b1-4229-b50d-302ce5b7943a",
   "metadata": {},
   "outputs": [],
   "source": [
    "# How to pick information out of a list of dictionaries\n",
    "customers = [ { \"customer id\": 0,\n",
    "               \"first name\":\"John\",\n",
    "               \"last name\": \"Ogden\",\n",
    "               \"address\": \"301 Arbor Rd.\", },\n",
    "             { \"customer id\": 1,\n",
    "              \"first name\":\"Ann\",\n",
    "              \"last name\": \n",
    "              \"Sattermyer\",\n",
    "              \"address\": \"PO Box 1145\"},\n",
    "             { \"customer id\": 2,\n",
    "              \"first name\":\"Jill\",\n",
    "              \"last name\": \"Somers\",\n",
    "              \"address\": \"3 Main St.\", }, \n",
    "            ]"
   ]
  },
  {
   "cell_type": "code",
   "execution_count": 29,
   "id": "05686201-536c-4bec-81b6-d331861fb9a1",
   "metadata": {},
   "outputs": [
    {
     "data": {
      "text/plain": [
       "2"
      ]
     },
     "execution_count": 29,
     "metadata": {},
     "output_type": "execute_result"
    }
   ],
   "source": [
    "customers[-1]['customer id']"
   ]
  },
  {
   "cell_type": "code",
   "execution_count": 27,
   "id": "b945f3c0-e575-4db5-90d0-e5cea40a3b44",
   "metadata": {},
   "outputs": [
    {
     "name": "stdout",
     "output_type": "stream",
     "text": [
      "{'customer id': 0, 'first name': 'John', 'last name': 'Ogden', 'address': '301 Arbor Rd.'}\n",
      "301 Arbor Rd.\n",
      "{'customer id': 1, 'first name': 'Ann', 'last name': 'Sattermyer', 'address': 'PO Box 1145'}\n",
      "PO Box 1145\n",
      "{'customer id': 2, 'first name': 'Jill', 'last name': 'Somers', 'address': '3 Main St.'}\n",
      "3 Main St.\n"
     ]
    }
   ],
   "source": [
    "for a in customers:\n",
    "    print(a)\n",
    "    print(a[\"address\"])"
   ]
  },
  {
   "cell_type": "code",
   "execution_count": 31,
   "id": "a1aec8ef-c45d-4f3f-a743-bc69e5b82fcb",
   "metadata": {},
   "outputs": [
    {
     "data": {
      "text/plain": [
       "[{'customer id': 0,\n",
       "  'first name': 'John',\n",
       "  'last name': 'Ogden',\n",
       "  'address': '301 Arbor Rd.'},\n",
       " {'customer id': 1,\n",
       "  'first name': 'Ann',\n",
       "  'last name': 'Sattermyer',\n",
       "  'address': 'PO Box 1145'},\n",
       " {'customer id': 2,\n",
       "  'first name': 'Jill',\n",
       "  'last name': 'Somers',\n",
       "  'address': '3 Main St.'}]"
      ]
     },
     "execution_count": 31,
     "metadata": {},
     "output_type": "execute_result"
    }
   ],
   "source": [
    "# How to append a new dictionary to a list of dictionaries\n",
    "customers"
   ]
  },
  {
   "cell_type": "code",
   "execution_count": 32,
   "id": "25b44585-d8a9-4f2e-afda-f64a4ca3f3ff",
   "metadata": {},
   "outputs": [
    {
     "data": {
      "text/plain": [
       "{'first_name': 'Qasim', 'last_name': 'Hassan', 'address': 'karachi, Pakistan'}"
      ]
     },
     "execution_count": 32,
     "metadata": {},
     "output_type": "execute_result"
    }
   ],
   "source": [
    "personal_bio"
   ]
  },
  {
   "cell_type": "code",
   "execution_count": 33,
   "id": "464e34a6-a3ef-4942-a48d-b85fde58eb54",
   "metadata": {},
   "outputs": [],
   "source": [
    "customers.append(personal_bio)"
   ]
  },
  {
   "cell_type": "code",
   "execution_count": 34,
   "id": "5ac4411d-b0a8-4acc-b204-2fdf961b6652",
   "metadata": {},
   "outputs": [
    {
     "data": {
      "text/plain": [
       "[{'customer id': 0,\n",
       "  'first name': 'John',\n",
       "  'last name': 'Ogden',\n",
       "  'address': '301 Arbor Rd.'},\n",
       " {'customer id': 1,\n",
       "  'first name': 'Ann',\n",
       "  'last name': 'Sattermyer',\n",
       "  'address': 'PO Box 1145'},\n",
       " {'customer id': 2,\n",
       "  'first name': 'Jill',\n",
       "  'last name': 'Somers',\n",
       "  'address': '3 Main St.'},\n",
       " {'first_name': 'Qasim',\n",
       "  'last_name': 'Hassan',\n",
       "  'address': 'karachi, Pakistan'}]"
      ]
     },
     "execution_count": 34,
     "metadata": {},
     "output_type": "execute_result"
    }
   ],
   "source": [
    "customers"
   ]
  },
  {
   "cell_type": "code",
   "execution_count": 35,
   "id": "a52a446d-0a14-4c02-9c98-2589f46c15f3",
   "metadata": {},
   "outputs": [
    {
     "data": {
      "text/plain": [
       "4"
      ]
     },
     "execution_count": 35,
     "metadata": {},
     "output_type": "execute_result"
    }
   ],
   "source": [
    "len(customers)"
   ]
  },
  {
   "cell_type": "code",
   "execution_count": 43,
   "id": "3d718989-6f4f-42dc-8cf8-a2fa95e6cf33",
   "metadata": {},
   "outputs": [],
   "source": [
    "'''\n",
    "Creating a dictionary that contains a dictionary\n",
    "------------------------------------------------\n",
    "dictionaries of customers with in dictionary \n",
    "using customer_id as key for internal dictionary \n",
    "that contian details about that customer\n",
    "'''\n",
    "\n",
    "customers_dict = {0: {\n",
    "                  'first name': 'John',\n",
    "                  'last name': 'Ogden',\n",
    "                  'address': '301 Arbor Rd.'},\n",
    "                 1: {\n",
    "                  'first name': 'Ann',\n",
    "                  'last name': 'Sattermyer',\n",
    "                  'address': 'PO Box 1145'},\n",
    "                 2: {\n",
    "                  'first name': 'Jill',\n",
    "                  'last name': 'Somers',\n",
    "                  'address': '3 Main St.'},\n",
    "                 3: {\n",
    "                  'first_name': 'Qasim',\n",
    "                  'last_name': 'Hassan',\n",
    "                  'address': 'karachi, Pakistan'}}"
   ]
  },
  {
   "cell_type": "code",
   "execution_count": 63,
   "id": "c27bc09a-dd37-49ac-a149-3a99c0a7abbb",
   "metadata": {},
   "outputs": [
    {
     "name": "stdout",
     "output_type": "stream",
     "text": [
      "0\n",
      "1\n",
      "2\n",
      "3\n"
     ]
    }
   ],
   "source": [
    "#How to get information out of a dictionary within another dictionary\n",
    "for customer in customers_dict: # by default return \"keys\" and using \".keys()\"\n",
    "    print(customer)\n",
    "    print(customers_dict[customer]['address'])"
   ]
  },
  {
   "cell_type": "code",
   "execution_count": 62,
   "id": "47234ea6-8087-42af-abf9-666504aa9ef3",
   "metadata": {},
   "outputs": [
    {
     "name": "stdout",
     "output_type": "stream",
     "text": [
      "{'first name': 'John', 'last name': 'Ogden', 'address': '301 Arbor Rd.'}\n",
      "301 Arbor Rd.\n",
      "{'first name': 'Ann', 'last name': 'Sattermyer', 'address': 'PO Box 1145'}\n",
      "PO Box 1145\n",
      "{'first name': 'Jill', 'last name': 'Somers', 'address': '3 Main St.'}\n",
      "3 Main St.\n",
      "{'first_name': 'Qasim', 'last_name': 'Hassan', 'address': 'karachi, Pakistan'}\n",
      "karachi, Pakistan\n"
     ]
    }
   ],
   "source": [
    "for customer in customers_dict.values():\n",
    "    print(customer)\n",
    "    print(customer['address'])"
   ]
  },
  {
   "cell_type": "code",
   "execution_count": 79,
   "id": "69b4ecd9-c93f-469d-a093-e00911d4ef44",
   "metadata": {},
   "outputs": [
    {
     "name": "stdout",
     "output_type": "stream",
     "text": [
      "key is: 0\n",
      "Addess of key 0 is 301 Arbor Rd.\n",
      "----------\n",
      "value is: {'first name': 'John', 'last name': 'Ogden', 'address': '301 Arbor Rd.'}\n",
      " Address of value {'first name': 'John', 'last name': 'Ogden', 'address': '301 Arbor Rd.'} is 301 Arbor Rd.\n",
      "******** loop ends *********\n",
      "key is: 1\n",
      "Addess of key 1 is PO Box 1145\n",
      "----------\n",
      "value is: {'first name': 'Ann', 'last name': 'Sattermyer', 'address': 'PO Box 1145'}\n",
      " Address of value {'first name': 'Ann', 'last name': 'Sattermyer', 'address': 'PO Box 1145'} is PO Box 1145\n",
      "******** loop ends *********\n",
      "key is: 2\n",
      "Addess of key 2 is 3 Main St.\n",
      "----------\n",
      "value is: {'first name': 'Jill', 'last name': 'Somers', 'address': '3 Main St.'}\n",
      " Address of value {'first name': 'Jill', 'last name': 'Somers', 'address': '3 Main St.'} is 3 Main St.\n",
      "******** loop ends *********\n",
      "key is: 3\n",
      "Addess of key 3 is karachi, Pakistan\n",
      "----------\n",
      "value is: {'first_name': 'Qasim', 'last_name': 'Hassan', 'address': 'karachi, Pakistan'}\n",
      " Address of value {'first_name': 'Qasim', 'last_name': 'Hassan', 'address': 'karachi, Pakistan'} is karachi, Pakistan\n",
      "******** loop ends *********\n"
     ]
    }
   ],
   "source": [
    "for key, value in customers_dict.items(): # returns tuple with key & value\n",
    "    print(f\"key is: {key}\")\n",
    "    #extracting ADDRESS using \"key\" above\n",
    "    print(f\"Addess of key {key} is {customers_dict[key][\"address\"]}\")\n",
    "    print(\"----------\")\n",
    "    #extracting ADDRESS using \"value\" above\n",
    "    print(f\"value is: {value}\")\n",
    "    print(f\" Address of value {value} is {value[\"address\"]}\")\n",
    "    print(\"******** loop ends *********\")"
   ]
  },
  {
   "cell_type": "code",
   "execution_count": 58,
   "id": "9a92443b-02e9-4bc1-a6eb-b0ce812c60ba",
   "metadata": {},
   "outputs": [
    {
     "name": "stdout",
     "output_type": "stream",
     "text": [
      "301 Arbor Rd.\n",
      "PO Box 1145\n",
      "3 Main St.\n",
      "karachi, Pakistan\n"
     ]
    }
   ],
   "source": [
    "for i in range(len(customers_dict)):\n",
    "    print(customers_dict[i][\"address\"])"
   ]
  },
  {
   "cell_type": "code",
   "execution_count": 81,
   "id": "4a218d7d-1b9b-47ba-af8f-78660c7099b7",
   "metadata": {},
   "outputs": [],
   "source": [
    "saylani = { \"python\": {\"timings\": 'MWF',\n",
    "                       \"instructor\": \"Ayan\"},\n",
    "           \"data engineering\": {\"timings\": \"TTS\",\n",
    "                                 \"instructor\": \"Dawood\"}}"
   ]
  },
  {
   "cell_type": "code",
   "execution_count": 86,
   "id": "e6d8fc43-d37b-437a-b811-191969eeaa91",
   "metadata": {},
   "outputs": [
    {
     "name": "stdout",
     "output_type": "stream",
     "text": [
      "key is: python\n",
      "value is:{'timings': 'MWF', 'instructor': 'Ayan'}\n",
      "through key: Ayan\n",
      "through value: Ayan\n",
      "**** loops ends *****\n",
      "key is: data engineering\n",
      "value is:{'timings': 'TTS', 'instructor': 'Dawood'}\n",
      "through key: Dawood\n",
      "through value: Dawood\n",
      "**** loops ends *****\n"
     ]
    }
   ],
   "source": [
    "for key, value in saylani.items():\n",
    "    print(f\"key is: {key}\")\n",
    "    print(f\"value is:{value}\")\n",
    "    print(f\"through key: {saylani[key][\"instructor\"]}\")\n",
    "    print(f\"through value: {value[\"instructor\"]}\")\n",
    "    print(\"**** loops ends *****\")"
   ]
  },
  {
   "cell_type": "markdown",
   "id": "d24d0937-fd87-4712-92dc-9215cb0cabf3",
   "metadata": {},
   "source": [
    "### Functions\n",
    "- print() anything that you pass will be printed on console\n",
    "- type() any variable that you pass, this func will give the \"type\" of that variable\n",
    "- id() any variable that you pass, this func will give the \"address\" of that variable\n",
    "\n",
    "##### definition: functions are like black box that perform certain operations\n",
    "\n",
    "- input --> function (operation) --> desired result(based on operation)\n",
    "- **Advantage**: code reuseability, code modularity"
   ]
  },
  {
   "cell_type": "raw",
   "id": "07b77cef-edc8-45c0-8130-ec77bf7571ed",
   "metadata": {},
   "source": [
    "Basic Syntax:\n",
    "-------\n",
    "def <func_name>():\n",
    "    <func_body>"
   ]
  },
  {
   "cell_type": "code",
   "execution_count": 87,
   "id": "9a573364-0ba1-41aa-a480-69ed45f14265",
   "metadata": {},
   "outputs": [],
   "source": [
    "def print_func():\n",
    "    print(\"SMI:Saylani Mass IT training\")"
   ]
  },
  {
   "cell_type": "code",
   "execution_count": 88,
   "id": "68455935-7e77-4593-b2c1-c1f31ecaa60c",
   "metadata": {},
   "outputs": [
    {
     "name": "stdout",
     "output_type": "stream",
     "text": [
      "SMI:Saylani Mass IT training\n"
     ]
    }
   ],
   "source": [
    "print_func() # function calling"
   ]
  },
  {
   "cell_type": "code",
   "execution_count": 90,
   "id": "a96fc9d5-7692-48b1-bf87-2fb809872957",
   "metadata": {},
   "outputs": [
    {
     "name": "stdout",
     "output_type": "stream",
     "text": [
      "SMI:Saylani Mass IT training\n"
     ]
    }
   ],
   "source": [
    "print_func()"
   ]
  },
  {
   "cell_type": "code",
   "execution_count": 91,
   "id": "2edeb95a-97dc-4679-b90a-b8200b6608da",
   "metadata": {},
   "outputs": [],
   "source": [
    "# task: create a function that print sum of two numbers\n",
    "\n",
    "def add():\n",
    "    num1= 5 # hard coded varibale 1\n",
    "    num2= 6 # hard coded varibale 2\n",
    "    total = num1 + num2\n",
    "    print(total)"
   ]
  },
  {
   "cell_type": "code",
   "execution_count": 92,
   "id": "c45a5664-b1fa-490b-8c15-e884d747e5e1",
   "metadata": {},
   "outputs": [
    {
     "name": "stdout",
     "output_type": "stream",
     "text": [
      "11\n"
     ]
    }
   ],
   "source": [
    "add() # function calling"
   ]
  },
  {
   "cell_type": "code",
   "execution_count": 93,
   "id": "95442c23-755c-4d88-ba49-714132d1caac",
   "metadata": {},
   "outputs": [
    {
     "name": "stdout",
     "output_type": "stream",
     "text": [
      "11\n"
     ]
    }
   ],
   "source": [
    "add() # problem: addition of static(hard coded) numbers & we want addition based on our numbers"
   ]
  },
  {
   "cell_type": "raw",
   "id": "4efbc119-4a77-40f8-afca-91b97f6aa195",
   "metadata": {},
   "source": [
    "syntax with paramerters:\n",
    "------------------------\n",
    "def <func_name>(paramerts):\n",
    "    <func_body>"
   ]
  },
  {
   "cell_type": "code",
   "execution_count": 94,
   "id": "5ad73ce6-813a-4a91-8163-2e60276688b0",
   "metadata": {},
   "outputs": [],
   "source": [
    "# Functions: Passing them information OR dynamic values passing\n",
    "def add(num1, num2):\n",
    "    print(num1 + num2)"
   ]
  },
  {
   "cell_type": "code",
   "execution_count": 95,
   "id": "7ccdf0ca-0113-412a-8fba-f12c5838bb12",
   "metadata": {},
   "outputs": [
    {
     "name": "stdout",
     "output_type": "stream",
     "text": [
      "5\n"
     ]
    }
   ],
   "source": [
    "add(2,3)"
   ]
  },
  {
   "cell_type": "code",
   "execution_count": 106,
   "id": "98b456be-92c0-4559-a805-00093a8b6643",
   "metadata": {},
   "outputs": [
    {
     "name": "stdout",
     "output_type": "stream",
     "text": [
      "13\n"
     ]
    }
   ],
   "source": [
    "add(6,7)"
   ]
  },
  {
   "cell_type": "code",
   "execution_count": 108,
   "id": "ce92bfb3-580b-4427-abad-fe9907bf9aab",
   "metadata": {},
   "outputs": [
    {
     "ename": "TypeError",
     "evalue": "add() missing 1 required positional argument: 'num2'",
     "output_type": "error",
     "traceback": [
      "\u001b[1;31m---------------------------------------------------------------------------\u001b[0m",
      "\u001b[1;31mTypeError\u001b[0m                                 Traceback (most recent call last)",
      "Cell \u001b[1;32mIn[108], line 1\u001b[0m\n\u001b[1;32m----> 1\u001b[0m \u001b[43madd\u001b[49m\u001b[43m(\u001b[49m\u001b[38;5;241;43m6\u001b[39;49m\u001b[43m)\u001b[49m \u001b[38;5;66;03m# error raised becuase we didn't pass the second parameter\u001b[39;00m\n",
      "\u001b[1;31mTypeError\u001b[0m: add() missing 1 required positional argument: 'num2'"
     ]
    }
   ],
   "source": [
    "add(6) # error raised becuase we didn't pass the second parameter"
   ]
  },
  {
   "cell_type": "code",
   "execution_count": 102,
   "id": "0ccf359d-3155-47c0-8f8f-ae98c8f40ec1",
   "metadata": {},
   "outputs": [],
   "source": [
    "# Functions: Passing information to them a different way\n",
    "# Kelvin = Celsius + 273.15.\n",
    "\n",
    "def temp_kelvin(celsius, defuat_kelvin_value=273.15):\n",
    "    print(celsius + defuat_kelvin_value)"
   ]
  },
  {
   "cell_type": "code",
   "execution_count": 103,
   "id": "caee6d70-6b29-46f6-90ef-eaeb3d12a23b",
   "metadata": {},
   "outputs": [
    {
     "name": "stdout",
     "output_type": "stream",
     "text": [
      "318\n"
     ]
    }
   ],
   "source": [
    "temp_kelvin(45, 273)"
   ]
  },
  {
   "cell_type": "code",
   "execution_count": 104,
   "id": "e8e8c967-c989-423a-9603-8974793b34f2",
   "metadata": {},
   "outputs": [
    {
     "name": "stdout",
     "output_type": "stream",
     "text": [
      "318.15\n"
     ]
    }
   ],
   "source": [
    "# error didn't raised \n",
    "# becuase we set the default value of variable \"defuat_kelvin_value\" in function definition\n",
    "temp_kelvin(45) "
   ]
  },
  {
   "cell_type": "code",
   "execution_count": 110,
   "id": "615f9508-436e-475d-9477-3bfaef69a02a",
   "metadata": {},
   "outputs": [
    {
     "ename": "SyntaxError",
     "evalue": "parameter without a default follows parameter with a default (3900800850.py, line 2)",
     "output_type": "error",
     "traceback": [
      "\u001b[1;36m  Cell \u001b[1;32mIn[110], line 2\u001b[1;36m\u001b[0m\n\u001b[1;33m    def temp_kelvin(defuat_kelvin_value=273.15, celsius):\u001b[0m\n\u001b[1;37m                                                ^\u001b[0m\n\u001b[1;31mSyntaxError\u001b[0m\u001b[1;31m:\u001b[0m parameter without a default follows parameter with a default\n"
     ]
    }
   ],
   "source": [
    "# just swapped the paramerte -> default first\n",
    "def temp_kelvin(defuat_kelvin_value=273.15, celsius):\n",
    "    print(celsius + defuat_kelvin_value)"
   ]
  },
  {
   "cell_type": "code",
   "execution_count": 111,
   "id": "1979ff9a-895a-4771-b788-59959cb906c4",
   "metadata": {},
   "outputs": [],
   "source": [
    "# Functions: Mixing positional and keyword arguments\n",
    "# print greeting to any person coming to saylani\n",
    "\n",
    "def greetings(first_name, last_name, Greeting=\"Welcome\"):\n",
    "    print(f\"Hey, {first_name} {last_name}, {Greeting}\")"
   ]
  },
  {
   "cell_type": "code",
   "execution_count": 112,
   "id": "21cd85b8-6a5e-489e-98e1-575f549ed74c",
   "metadata": {},
   "outputs": [
    {
     "name": "stdout",
     "output_type": "stream",
     "text": [
      "Hey, Qasim Hassan, Welcome\n"
     ]
    }
   ],
   "source": [
    "greetings(\"Qasim\", \"Hassan\") # --> positional argument"
   ]
  },
  {
   "cell_type": "code",
   "execution_count": 113,
   "id": "fc467c48-e9fb-49f5-b1a9-ab0f66ae035d",
   "metadata": {},
   "outputs": [
    {
     "name": "stdout",
     "output_type": "stream",
     "text": [
      "Hey, Hassan Qasim, Welcome\n"
     ]
    }
   ],
   "source": [
    "greetings(\"Hassan\", \"Qasim\") # wrong output because first name is Qasim not Hassan"
   ]
  },
  {
   "cell_type": "code",
   "execution_count": 114,
   "id": "703d97a5-0d98-4184-8c4b-13ac5ac6b57d",
   "metadata": {},
   "outputs": [
    {
     "name": "stdout",
     "output_type": "stream",
     "text": [
      "Hey, Qasim Hassan, Welcome\n"
     ]
    }
   ],
   "source": [
    "greetings(first_name=\"Qasim\", last_name=\"Hassan\") # --> key-word argments"
   ]
  },
  {
   "cell_type": "code",
   "execution_count": 115,
   "id": "742ff3f0-bd39-42bb-89a4-6dd2c325e856",
   "metadata": {},
   "outputs": [
    {
     "name": "stdout",
     "output_type": "stream",
     "text": [
      "Hey, Qasim Hassan, Welcome\n"
     ]
    }
   ],
   "source": [
    "greetings(last_name=\"Hassan\", first_name=\"Qasim\" )"
   ]
  },
  {
   "cell_type": "code",
   "execution_count": null,
   "id": "b16bfc07-8ec0-4bf5-ac85-3e491b798871",
   "metadata": {},
   "outputs": [],
   "source": [
    "# Functions: Dealing with an unknown number of arguments"
   ]
  },
  {
   "cell_type": "code",
   "execution_count": null,
   "id": "29574b11-4063-4b85-85de-cb1ca77bac93",
   "metadata": {},
   "outputs": [],
   "source": [
    "# Functions: Passing information back from them"
   ]
  }
 ],
 "metadata": {
  "kernelspec": {
   "display_name": "Python 3 (ipykernel)",
   "language": "python",
   "name": "python3"
  },
  "language_info": {
   "codemirror_mode": {
    "name": "ipython",
    "version": 3
   },
   "file_extension": ".py",
   "mimetype": "text/x-python",
   "name": "python",
   "nbconvert_exporter": "python",
   "pygments_lexer": "ipython3",
   "version": "3.12.4"
  }
 },
 "nbformat": 4,
 "nbformat_minor": 5
}
