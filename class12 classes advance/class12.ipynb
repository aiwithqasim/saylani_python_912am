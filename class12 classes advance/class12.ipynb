{
 "cells": [
  {
   "cell_type": "code",
   "execution_count": 1,
   "id": "1e7b19b2-e4f5-40e1-af41-8c34fd91c7c2",
   "metadata": {},
   "outputs": [],
   "source": [
    "name = 'Qasim'"
   ]
  },
  {
   "cell_type": "code",
   "execution_count": 2,
   "id": "a84be33d-bf69-443b-ba0e-f11769b19713",
   "metadata": {},
   "outputs": [
    {
     "name": "stdout",
     "output_type": "stream",
     "text": [
      "<class 'str'>\n"
     ]
    }
   ],
   "source": [
    "print(type(name))"
   ]
  },
  {
   "cell_type": "code",
   "execution_count": 3,
   "id": "ced73a3e-3c30-4fed-bf90-fc47111a201b",
   "metadata": {},
   "outputs": [],
   "source": [
    "lst = [1,True, 'Qasim', 1.15]"
   ]
  },
  {
   "cell_type": "code",
   "execution_count": 4,
   "id": "9178753f-90ec-4e88-b58e-b3bc9b25b420",
   "metadata": {},
   "outputs": [
    {
     "name": "stdout",
     "output_type": "stream",
     "text": [
      "<class 'list'>\n"
     ]
    }
   ],
   "source": [
    "print(type(lst))"
   ]
  },
  {
   "cell_type": "code",
   "execution_count": 5,
   "id": "30ddb12b-8386-428c-bcc0-83c43b8ebb3a",
   "metadata": {},
   "outputs": [],
   "source": [
    "lst.append('Hassan') \n",
    "\n",
    "# this is an activity --> functionality\n",
    "# METHOD are nothing but a part behavoir of any class\n",
    "# OBJECT: is nothing but a instance that possess the blueprint of class"
   ]
  },
  {
   "cell_type": "code",
   "execution_count": 6,
   "id": "bae3abf3-6be1-4470-9aa3-8182c183bb39",
   "metadata": {},
   "outputs": [],
   "source": [
    "lst2 = [1,True, 'Qasim', 1.15]"
   ]
  },
  {
   "cell_type": "code",
   "execution_count": 7,
   "id": "4ae70362-8d96-49fd-9936-f74b4e8deb60",
   "metadata": {},
   "outputs": [
    {
     "data": {
      "text/plain": [
       "['__add__',\n",
       " '__class__',\n",
       " '__class_getitem__',\n",
       " '__contains__',\n",
       " '__delattr__',\n",
       " '__delitem__',\n",
       " '__dir__',\n",
       " '__doc__',\n",
       " '__eq__',\n",
       " '__format__',\n",
       " '__ge__',\n",
       " '__getattribute__',\n",
       " '__getitem__',\n",
       " '__getstate__',\n",
       " '__gt__',\n",
       " '__hash__',\n",
       " '__iadd__',\n",
       " '__imul__',\n",
       " '__init__',\n",
       " '__init_subclass__',\n",
       " '__iter__',\n",
       " '__le__',\n",
       " '__len__',\n",
       " '__lt__',\n",
       " '__mul__',\n",
       " '__ne__',\n",
       " '__new__',\n",
       " '__reduce__',\n",
       " '__reduce_ex__',\n",
       " '__repr__',\n",
       " '__reversed__',\n",
       " '__rmul__',\n",
       " '__setattr__',\n",
       " '__setitem__',\n",
       " '__sizeof__',\n",
       " '__str__',\n",
       " '__subclasshook__',\n",
       " 'append',\n",
       " 'clear',\n",
       " 'copy',\n",
       " 'count',\n",
       " 'extend',\n",
       " 'index',\n",
       " 'insert',\n",
       " 'pop',\n",
       " 'remove',\n",
       " 'reverse',\n",
       " 'sort']"
      ]
     },
     "execution_count": 7,
     "metadata": {},
     "output_type": "execute_result"
    }
   ],
   "source": [
    "dir(lst2) # __add__ everythign method starts/ends ___ is called dunder methods"
   ]
  },
  {
   "cell_type": "code",
   "execution_count": 8,
   "id": "7bf0efc9-275a-4ff3-872c-5c6638a84912",
   "metadata": {},
   "outputs": [
    {
     "data": {
      "text/plain": [
       "['append',\n",
       " 'clear',\n",
       " 'copy',\n",
       " 'count',\n",
       " 'extend',\n",
       " 'index',\n",
       " 'insert',\n",
       " 'pop',\n",
       " 'remove',\n",
       " 'reverse',\n",
       " 'sort']"
      ]
     },
     "execution_count": 8,
     "metadata": {},
     "output_type": "execute_result"
    }
   ],
   "source": [
    "[method for method in dir(lst2) if \"__\" not in method]"
   ]
  },
  {
   "cell_type": "markdown",
   "id": "164270ce-105a-438b-a34d-d6b6f625838b",
   "metadata": {},
   "source": [
    "- ATTTRIBUTES: charactertistcis of class are called attributes\n",
    "- CONSTRUCTOR\n",
    "    - special type of a methods\n",
    "    - that initialize class attributes\n",
    "- CLASS: is a blueprint that posses Attributes (charatertics) and Methods(Behaviors)"
   ]
  },
  {
   "cell_type": "markdown",
   "id": "8b0bf382-db76-4eb4-9adc-6bf1705913e4",
   "metadata": {},
   "source": [
    "## Classes \n",
    "- Constructor(special type of method)\n",
    "- Attributes\n",
    "- Methods\n",
    "- Intialize object"
   ]
  },
  {
   "cell_type": "markdown",
   "id": "dd8b0f82-786a-467f-ad42-289749ac10c1",
   "metadata": {},
   "source": [
    "Examples: Suppose we're Working in automobile (cars) company\n",
    "\n",
    "- class ==> automobiles\n",
    "- attibutes (characteristics) ==> model, year, name, brand, color\n",
    "- method (Behaviors) ==> travel, drtifiting, raching, carry"
   ]
  },
  {
   "cell_type": "code",
   "execution_count": 9,
   "id": "1fa3a316-9812-4299-ae1f-9307114e7594",
   "metadata": {},
   "outputs": [],
   "source": [
    "class automobiles():\n",
    "    #constructor\n",
    "    def __init__(self, model_year, name, brand, color):\n",
    "        self.model_year = model_year # attributes\n",
    "        self.name = name\n",
    "        self.brand = brand\n",
    "        self.color = color\n",
    "    \n",
    "    #method-1\n",
    "    def travel(self, passenger : str) -> None:\n",
    "        print(f\"{passenger} is travelling in {self.name}\") \n",
    "    \n",
    "    #methods-2\n",
    "    def carry(self, weight : float, goods: str) -> None:\n",
    "        print(f\"{self.name} is carrying {goods} of weight {weight}\")"
   ]
  },
  {
   "cell_type": "code",
   "execution_count": 10,
   "id": "c8b603fd-8af5-429d-8b14-b217c1d38c1f",
   "metadata": {},
   "outputs": [],
   "source": [
    "car1 = automobiles(2015, \"Suzuki\", \"Bolan\", \"Black\")"
   ]
  },
  {
   "cell_type": "code",
   "execution_count": 11,
   "id": "8bdfb858-db96-4d21-8b98-b58aca88d00f",
   "metadata": {},
   "outputs": [
    {
     "name": "stdout",
     "output_type": "stream",
     "text": [
      "Suzuki\n",
      "Bolan\n",
      "2015\n",
      "Black\n"
     ]
    }
   ],
   "source": [
    "print(car1.name)\n",
    "print(car1.brand)\n",
    "print(car1.model_year)\n",
    "print(car1.color)"
   ]
  },
  {
   "cell_type": "code",
   "execution_count": 12,
   "id": "a0bab689-a384-49fc-a752-093001366be2",
   "metadata": {},
   "outputs": [
    {
     "name": "stdout",
     "output_type": "stream",
     "text": [
      "Dawood is travelling in Suzuki\n"
     ]
    }
   ],
   "source": [
    "car1.travel(\"Dawood\")"
   ]
  },
  {
   "cell_type": "code",
   "execution_count": 13,
   "id": "175ee4ba-c983-4df9-9b4f-c36b2137a937",
   "metadata": {},
   "outputs": [
    {
     "name": "stdout",
     "output_type": "stream",
     "text": [
      "Suzuki is carrying Halwa of weight 0.5\n"
     ]
    }
   ],
   "source": [
    "car1.carry(0.5 , \"Halwa\")"
   ]
  },
  {
   "cell_type": "markdown",
   "id": "61fa4c3f-26e8-4249-a05d-8666a6026454",
   "metadata": {},
   "source": [
    "#### TASK: create class for saylani and create atleast 2 attributes, 1 method & 2 class variables"
   ]
  },
  {
   "cell_type": "code",
   "execution_count": 14,
   "id": "8fd51b3a-03cf-4266-b0dd-34b3a5a51d2e",
   "metadata": {},
   "outputs": [],
   "source": [
    "class Saylani():\n",
    "    #class variables\n",
    "    saylaniHelpline = '05454 545 545 5'\n",
    "    branchNo = 0\n",
    "    \n",
    "    #constructor\n",
    "    def __init__(self, name, roll,batch):\n",
    "        self.name = name\n",
    "        self.roll = roll\n",
    "        self.batch = batch\n",
    "        Saylani.branchNo +=1\n",
    "    \n",
    "    #method-1\n",
    "    def print_card(self) -> None:\n",
    "        card = f\"\"\"\n",
    "            Name: {self.name}\n",
    "            Roll:  {self.roll}\n",
    "            Batch:  {self.batch}\n",
    "        \"\"\"\n",
    "        print(card)\n"
   ]
  },
  {
   "cell_type": "code",
   "execution_count": 15,
   "id": "774ca32f-437e-4efe-817d-c65ae3160973",
   "metadata": {},
   "outputs": [
    {
     "name": "stdout",
     "output_type": "stream",
     "text": [
      "Current branch number 0\n",
      "After creating object branch number 1\n",
      "If you an issue call on 05454 545 545 5\n"
     ]
    }
   ],
   "source": [
    "print(f'Current branch number {Saylani.branchNo}')\n",
    "saylani= Saylani(\"Aftab Hussain\",\"Python--001\",3)\n",
    "print(f'After creating object branch number {Saylani.branchNo}')\n",
    "print(f'If you an issue call on {Saylani.saylaniHelpline}')"
   ]
  },
  {
   "cell_type": "code",
   "execution_count": 16,
   "id": "1f5d4e0a-4124-4525-bd6c-8f6cadaa9887",
   "metadata": {},
   "outputs": [
    {
     "name": "stdout",
     "output_type": "stream",
     "text": [
      "\n",
      "            Name: Aftab Hussain\n",
      "            Roll:  Python--001\n",
      "            Batch:  3\n",
      "        \n"
     ]
    }
   ],
   "source": [
    "saylani.print_card()"
   ]
  },
  {
   "cell_type": "markdown",
   "id": "204c5a15-b69c-4d66-a5a8-80804e2718fa",
   "metadata": {},
   "source": [
    "Example: 02\n",
    "\n",
    "- class: teachers\n",
    "- attributes: name, course, timings\n",
    "- methods: details, teaching"
   ]
  },
  {
   "cell_type": "code",
   "execution_count": 17,
   "id": "aee050af-fc0f-42f5-91a1-50711d9bd221",
   "metadata": {},
   "outputs": [],
   "source": [
    "class teacher():\n",
    "    # class variables\n",
    "    counter = 0\n",
    "    oraganization = \"Saylani Mass IT Training\"\n",
    "    \n",
    "    #constructor\n",
    "    def __init__(self, name, courses, timings):\n",
    "        self.name = name\n",
    "        self.courses = courses\n",
    "        self.timings = timings\n",
    "        teacher.counter +=1\n",
    "\n",
    "    #methods\n",
    "    def details(self):\n",
    "        print(f\" Teacher {self.name} is teaching {self.courses} at {self.timings}\")\n",
    "    def teaching(self, course):\n",
    "        print(f\"right now course {self.name} is teaching {course}\")  "
   ]
  },
  {
   "cell_type": "code",
   "execution_count": 18,
   "id": "eae36a9f-022e-4fee-8f88-cbd80d0abbb3",
   "metadata": {},
   "outputs": [
    {
     "data": {
      "text/plain": [
       "1"
      ]
     },
     "execution_count": 18,
     "metadata": {},
     "output_type": "execute_result"
    }
   ],
   "source": [
    "obj1 = teacher(\"Faisal\", \"Python Programming\", \"9to11\")\n",
    "obj1.counter"
   ]
  },
  {
   "cell_type": "code",
   "execution_count": 19,
   "id": "0d43aaa8-583d-4988-81b2-c5317636709b",
   "metadata": {},
   "outputs": [
    {
     "name": "stdout",
     "output_type": "stream",
     "text": [
      "2\n",
      "Saylani Mass IT Training\n"
     ]
    }
   ],
   "source": [
    "obj2 = teacher(\"Ayan\", \"Data Engineering\", \"2to5\")\n",
    "print(obj2.counter)\n",
    "print(obj2.oraganization)"
   ]
  },
  {
   "cell_type": "code",
   "execution_count": 20,
   "id": "a11a3bc2-96f3-452a-a4db-37a51f9012f6",
   "metadata": {},
   "outputs": [
    {
     "name": "stdout",
     "output_type": "stream",
     "text": [
      "2\n",
      "Saylani Mass IT Training\n"
     ]
    }
   ],
   "source": [
    "# direct calling\n",
    "print(teacher.counter)\n",
    "print(teacher.oraganization)"
   ]
  },
  {
   "cell_type": "code",
   "execution_count": 21,
   "id": "a50f2e20-29c8-48ea-a1a6-5babc51d6465",
   "metadata": {},
   "outputs": [],
   "source": [
    "## The static keyword is used to construct methods that will exist \n",
    "## regardless of whether or not any instances of the class are generated.\n",
    "\n",
    "class MathOperations():\n",
    "    roll='csc-22f-082' #static var\n",
    "\n",
    "    @staticmethod\n",
    "    def add(number1: int , number2: int) -> None :\n",
    "        '''Add two numbers'''\n",
    "        sum = number1+number2\n",
    "        print(f\" Sum of {number1} and {number2} is {sum}\")\n",
    "    @staticmethod\n",
    "    def mul(number1: int , number2: int) -> None :\n",
    "        '''Add two numbers'''\n",
    "        prod = number1*number2\n",
    "        print(f\" prod of {number1} and {number2} is {prod}\")        "
   ]
  },
  {
   "cell_type": "code",
   "execution_count": 22,
   "id": "0e10ac91-638f-4403-87d4-1a080c8e369e",
   "metadata": {},
   "outputs": [
    {
     "name": "stdout",
     "output_type": "stream",
     "text": [
      "csc-22f-082\n",
      " Sum of 5 and 6 is 11\n",
      " prod of 5 and 6 is 30\n"
     ]
    }
   ],
   "source": [
    "print(MathOperations.roll)\n",
    "MathOperations.add(5,6)\n",
    "MathOperations.mul(5,6)"
   ]
  },
  {
   "cell_type": "markdown",
   "id": "3c87d376-8fd6-4fd8-8202-433571b15820",
   "metadata": {},
   "source": [
    "## Object Oriented Programming (OOP)\n",
    "\n",
    "Pillars of OOP:\n",
    "1. Inheritance\n",
    "2. Polymorphism\n",
    "3. Abstraction\n",
    "4. Encalsualtion"
   ]
  },
  {
   "cell_type": "code",
   "execution_count": 23,
   "id": "0609c02a-68ba-4709-bcc9-3593b85a55e9",
   "metadata": {},
   "outputs": [],
   "source": [
    "class Parent():\n",
    "    #constructor\n",
    "    def __init__(self, eye_color, skin_color):\n",
    "        self.eye_color = eye_color # attributes\n",
    "        self.skin_color = skin_color\n",
    "        \n",
    "    #methods\n",
    "    def speak(self):\n",
    "        print(f'Can Speak')\n",
    "\n",
    "class child(Parent):\n",
    "    pass"
   ]
  },
  {
   "cell_type": "code",
   "execution_count": 24,
   "id": "4d98652d-96c0-4169-bd20-d5f2340541c2",
   "metadata": {},
   "outputs": [
    {
     "name": "stdout",
     "output_type": "stream",
     "text": [
      "blue\n",
      "brown\n",
      "Can Speak\n"
     ]
    }
   ],
   "source": [
    "# parent Class\n",
    "parent_obj = Parent('blue', 'brown')\n",
    "print(parent_obj.eye_color)\n",
    "print(parent_obj.skin_color)\n",
    "parent_obj.speak()"
   ]
  },
  {
   "cell_type": "code",
   "execution_count": 25,
   "id": "d025b9a0-33c3-44f6-bd0f-45e962102c5b",
   "metadata": {},
   "outputs": [
    {
     "ename": "TypeError",
     "evalue": "Parent.__init__() missing 2 required positional arguments: 'eye_color' and 'skin_color'",
     "output_type": "error",
     "traceback": [
      "\u001b[1;31m---------------------------------------------------------------------------\u001b[0m",
      "\u001b[1;31mTypeError\u001b[0m                                 Traceback (most recent call last)",
      "Cell \u001b[1;32mIn[25], line 1\u001b[0m\n\u001b[1;32m----> 1\u001b[0m child_obj \u001b[38;5;241m=\u001b[39m child()\n\u001b[0;32m      2\u001b[0m child\n",
      "\u001b[1;31mTypeError\u001b[0m: Parent.__init__() missing 2 required positional arguments: 'eye_color' and 'skin_color'"
     ]
    }
   ],
   "source": [
    "child_obj = child()\n",
    "child"
   ]
  },
  {
   "cell_type": "code",
   "execution_count": null,
   "id": "4eb40076-6a40-45f4-83b7-5d5a870f003b",
   "metadata": {},
   "outputs": [],
   "source": [
    "child_obj = child(\"green\", \"fair\")"
   ]
  },
  {
   "cell_type": "code",
   "execution_count": 26,
   "id": "abd91127-f032-4ce6-8c91-6fc997fcaaf2",
   "metadata": {},
   "outputs": [
    {
     "name": "stdout",
     "output_type": "stream",
     "text": [
      "green\n",
      "fair\n",
      "Can Speak\n"
     ]
    }
   ],
   "source": [
    "child_obj = child(\"green\", \"fair\")\n",
    "\n",
    "print(child_obj.eye_color)\n",
    "print(child_obj.skin_color)\n",
    "child_obj.speak()"
   ]
  },
  {
   "cell_type": "code",
   "execution_count": 27,
   "id": "af7c0e76-18c1-4260-9a29-edb7a2dd0c84",
   "metadata": {},
   "outputs": [],
   "source": [
    "class Parent():\n",
    "    #constructor\n",
    "    def __init__(self, eye_color, skin_color):\n",
    "        self.eye_color = eye_color # attributes\n",
    "        self.skin_color = skin_color\n",
    "        \n",
    "    #methods\n",
    "    def speak(self):\n",
    "        print(f'Can Speak')\n",
    "\n",
    "class child(Parent):\n",
    "    #methods\n",
    "    def learn(self):\n",
    "        print(f'Can Learn new things')"
   ]
  },
  {
   "cell_type": "code",
   "execution_count": 28,
   "id": "8414fa31-5c2d-4791-849b-a7f247b541d9",
   "metadata": {},
   "outputs": [
    {
     "name": "stdout",
     "output_type": "stream",
     "text": [
      "green\n",
      "fair\n",
      "Can Speak\n",
      "Can Learn new things\n"
     ]
    }
   ],
   "source": [
    "child_obj = child(\"green\", \"fair\")\n",
    "print(child_obj.eye_color)\n",
    "print(child_obj.skin_color)\n",
    "child_obj.speak()\n",
    "child_obj.learn()"
   ]
  },
  {
   "cell_type": "code",
   "execution_count": 29,
   "id": "0cfc0bf7-b945-4d18-b715-a626004505e7",
   "metadata": {},
   "outputs": [],
   "source": [
    "class Parent():\n",
    "    #constructor\n",
    "    def __init__(self, eye_color, skin_color):\n",
    "        self.eye_color = eye_color # attributes\n",
    "        self.skin_color = skin_color\n",
    "        \n",
    "    #methods\n",
    "    def speak(self):\n",
    "        print(f'Can Speak')\n",
    "\n",
    "class child(Parent):\n",
    "    def __init__(self, eye_color, skin_color, hair_color):\n",
    "        super().__init__(eye_color, skin_color)\n",
    "        self.hair_color = hair_color\n",
    "    #methods\n",
    "    def learn(self):\n",
    "        print(f'Can Learn new things')"
   ]
  },
  {
   "cell_type": "code",
   "execution_count": 30,
   "id": "d78763da-52e2-416b-b6b1-66b1827c34b8",
   "metadata": {},
   "outputs": [
    {
     "name": "stdout",
     "output_type": "stream",
     "text": [
      "black\n",
      "brown\n",
      "white\n",
      "Can Learn new things\n"
     ]
    }
   ],
   "source": [
    "# ==> Child class with Inheritance & one new attribute & behavior\n",
    "\n",
    "ch_obj = child(\"black\", \"brown\", \"white\")\n",
    "print(ch_obj.eye_color)\n",
    "print(ch_obj.skin_color)\n",
    "print(ch_obj.hair_color)\n",
    "child_obj.learn()"
   ]
  },
  {
   "cell_type": "code",
   "execution_count": 31,
   "id": "b6c687ca-1059-4788-97ac-5a148d61eb92",
   "metadata": {},
   "outputs": [],
   "source": [
    "class Accountant:\n",
    "    person = 0\n",
    "    def __init__(self,name:str,id:int,balance:float):\n",
    "        self.name = name \n",
    "        self.id = id\n",
    "        self.balance = balance\n",
    "    def BalanceInquiry(self):\n",
    "        print(f\"The Balance in your Bank account is {self.balance}\")\n",
    "    def withdrawmoney(self,money):\n",
    "        self.balance = self.balance - money\n",
    "        print(f\"The Amount is sucessfully withdrawn and now the balance is {self.balance}\")\n",
    "        "
   ]
  },
  {
   "cell_type": "code",
   "execution_count": 32,
   "id": "f67b66e2-3b33-4b49-b746-cae123b4c3a7",
   "metadata": {},
   "outputs": [],
   "source": [
    "Person1 = Accountant(\"daniyal\",123456789,100000)"
   ]
  },
  {
   "cell_type": "code",
   "execution_count": 33,
   "id": "687bf1f6-7103-421e-8dd6-24e6e2ecb4ed",
   "metadata": {},
   "outputs": [
    {
     "name": "stdout",
     "output_type": "stream",
     "text": [
      "The Amount is sucessfully withdrawn and now the balance is 75000\n"
     ]
    }
   ],
   "source": [
    "Person1.withdrawmoney(25000)"
   ]
  },
  {
   "cell_type": "code",
   "execution_count": 34,
   "id": "509c339d-4887-4923-ab75-fa9886bcb1bf",
   "metadata": {},
   "outputs": [
    {
     "data": {
      "text/plain": [
       "75000"
      ]
     },
     "execution_count": 34,
     "metadata": {},
     "output_type": "execute_result"
    }
   ],
   "source": [
    "Person1.balance"
   ]
  },
  {
   "cell_type": "code",
   "execution_count": 35,
   "id": "c760db65-214a-4301-95ce-2a15c537d030",
   "metadata": {},
   "outputs": [],
   "source": [
    "class CBI(Accountant):\n",
    "    pass"
   ]
  },
  {
   "cell_type": "code",
   "execution_count": 36,
   "id": "6123ce5c-96b3-4caa-8c34-9696212f995b",
   "metadata": {},
   "outputs": [],
   "source": [
    "Bank = CBI(\"Danish\",123458,100000)"
   ]
  },
  {
   "cell_type": "code",
   "execution_count": 37,
   "id": "28ee0531-5528-49ca-9457-e3d5ea5d8962",
   "metadata": {},
   "outputs": [
    {
     "name": "stdout",
     "output_type": "stream",
     "text": [
      "The Amount is sucessfully withdrawn and now the balance is 25000\n"
     ]
    }
   ],
   "source": [
    "Bank.withdrawmoney(75000)"
   ]
  },
  {
   "cell_type": "code",
   "execution_count": 38,
   "id": "b641da1c-3ee5-4919-8ef5-acc4257e98c9",
   "metadata": {},
   "outputs": [
    {
     "ename": "SyntaxError",
     "evalue": "invalid syntax (3480400186.py, line 2)",
     "output_type": "error",
     "traceback": [
      "\u001b[1;36m  Cell \u001b[1;32mIn[38], line 2\u001b[1;36m\u001b[0m\n\u001b[1;33m    -> eye_color\u001b[0m\n\u001b[1;37m    ^\u001b[0m\n\u001b[1;31mSyntaxError\u001b[0m\u001b[1;31m:\u001b[0m invalid syntax\n"
     ]
    }
   ],
   "source": [
    "Father\n",
    "-> eye_color\n",
    "-> speak (behavious)\n",
    "\n",
    "Mother\n",
    "-> skin_color\n",
    "-> teach (Behaviour)\n",
    "\n",
    "child\n",
    "Father.__init__\n",
    "Mother.__init__"
   ]
  },
  {
   "cell_type": "code",
   "execution_count": 39,
   "id": "22a10b79-35ff-4f77-a474-777465c89833",
   "metadata": {},
   "outputs": [],
   "source": [
    "class Father():\n",
    "    def __init__ (self, eye_color):\n",
    "        self.eye_color = eye_color\n",
    "    def speak(self):\n",
    "        print(\"Hello\")\n",
    "\n",
    "class Mother():\n",
    "    def __init__ (self, skin_color):\n",
    "        self.skin_color = skin_color\n",
    "    def teach(self):\n",
    "        print(\"Teaching\")\n",
    "\n",
    "class Child(Father,Mother):\n",
    "    def __init__(self, eye_color, skin_color):\n",
    "        Father.__init__(self,eye_color)\n",
    "        Mother.__init__(self,skin_color)\n",
    "    "
   ]
  },
  {
   "cell_type": "code",
   "execution_count": 40,
   "id": "e3b455ab-ee89-48d1-bc08-d596a9896b82",
   "metadata": {},
   "outputs": [],
   "source": [
    "chd_obj = Child('Grey','Black')"
   ]
  },
  {
   "cell_type": "code",
   "execution_count": 41,
   "id": "7ff5fdfd-6c4d-4c4d-a298-64441d14d729",
   "metadata": {},
   "outputs": [
    {
     "name": "stdout",
     "output_type": "stream",
     "text": [
      "Hello\n"
     ]
    }
   ],
   "source": [
    "chd_obj.speak()"
   ]
  },
  {
   "cell_type": "code",
   "execution_count": 42,
   "id": "58fd2928-4348-49a0-a118-03f5ce800280",
   "metadata": {},
   "outputs": [
    {
     "name": "stdout",
     "output_type": "stream",
     "text": [
      "Teaching\n"
     ]
    }
   ],
   "source": [
    "chd_obj.teach()"
   ]
  },
  {
   "cell_type": "code",
   "execution_count": 43,
   "id": "565094d8-5f16-4a52-a7ad-5b43fbabbf64",
   "metadata": {},
   "outputs": [
    {
     "name": "stdout",
     "output_type": "stream",
     "text": [
      "Grey\n"
     ]
    }
   ],
   "source": [
    "print(chd_obj.eye_color)"
   ]
  },
  {
   "cell_type": "code",
   "execution_count": 44,
   "id": "9df78fdf-892e-41e0-a449-afb7cc48b945",
   "metadata": {},
   "outputs": [
    {
     "name": "stdout",
     "output_type": "stream",
     "text": [
      "Black\n"
     ]
    }
   ],
   "source": [
    "print(chd_obj.skin_color)"
   ]
  },
  {
   "cell_type": "markdown",
   "id": "f31a226c-4af2-49fd-9add-8f988714d394",
   "metadata": {},
   "source": [
    "1. Static Methods\n",
    "2. Simple Inheritance\n",
    "3. Only Method Interitance\n",
    "4. Single Class Inheritance ( Attributes + Methods)\n",
    "5. Multi Class Inheritance "
   ]
  },
  {
   "cell_type": "code",
   "execution_count": 46,
   "id": "03e27bc9-081b-48ed-b08e-41bd89dd234c",
   "metadata": {},
   "outputs": [
    {
     "name": "stdout",
     "output_type": "stream",
     "text": [
      "object height 6 Feet\n",
      "object eye color blue\n",
      "Monther Speaking function: Pakistan zinda bad\n"
     ]
    }
   ],
   "source": [
    "class Mother:\n",
    "    def __init__(self,name):\n",
    "        self.name = name\n",
    "        self.eye_color = \"blue\"\n",
    "    \n",
    "    def speaking(self, words):\n",
    "        return f\"Monther Speaking function: {words}\"\n",
    "\n",
    "class Father:\n",
    "    def __init__(self, name):\n",
    "        self.name = name\n",
    "        self.height = \"6 Feet\"\n",
    "\n",
    "    def speaking(self, words):\n",
    "        return f\"Father Speaking function: {words}\"\n",
    "\n",
    "class Child(Mother, Father):\n",
    "    def __init__(self, mother_name, father_name , child_name):\n",
    "        Mother.__init__(self, mother_name)\n",
    "        Father.__init__(self, father_name)\n",
    "        self.child_name = child_name\n",
    "\n",
    "qasim= Child(\"Bakth Un Nissa\", \"Hassan Khan\",\"Qasim Hassan\")\n",
    "\n",
    "print(f\"object height {qasim.height}\")\n",
    "print(f\"object eye color {qasim.eye_color}\")\n",
    "print(qasim.speaking(\"Pakistan zinda bad\"))"
   ]
  },
  {
   "cell_type": "code",
   "execution_count": null,
   "id": "06a2909c-09ef-4fb7-acc7-9599efdcf229",
   "metadata": {},
   "outputs": [],
   "source": [
    "Child >> Mother >> Father"
   ]
  },
  {
   "cell_type": "markdown",
   "id": "92271016-7a5b-495c-b160-7cd2850c5d48",
   "metadata": {},
   "source": [
    "### ABSRACTION\n",
    "`The concept of hiding the complex reality while exposing only the necessary parts. It helps to reduce programming complexity and effort.`\r\n",
    "- \r\n",
    "A class that consists of one or more abstract method is called the abstract clas.- \r\n",
    "\r\n",
    "Abstract methods do not contain their implementato- n.\r\n",
    "\r\n",
    "Abstract class can be inherited by the subclass and abstract method gets its definition in the subl- ass.\r\n",
    "\r\n",
    "Abstraction classes are meant to be the blueprint of the othe - class.\r\n",
    "\r\n",
    "An abstract class can be useful when we are designing large u- nctions.\r\n",
    "\r\n",
    "An abstract class is also helpful to provide the standard interface for different implementations of c`omponents.\r\n",
    "\r\n",
    "NOTE: Python provides the abc module to use the abstraction in the `ython program.\r\n",
    "\r\n",
    "Let's see the fllowing syntax.`"
   ]
  },
  {
   "cell_type": "code",
   "execution_count": 49,
   "id": "ed4a0c3c-e73f-4281-8dd9-43ded082db49",
   "metadata": {},
   "outputs": [],
   "source": [
    "class shapes():\n",
    "    \n",
    "    #abstract method\n",
    "    def sides(self):\n",
    "        pass"
   ]
  },
  {
   "cell_type": "code",
   "execution_count": 48,
   "id": "dcd364f3-6727-4b65-8c8e-5e2c03f11a47",
   "metadata": {},
   "outputs": [],
   "source": [
    "class triangle(shapes):\n",
    "\n",
    "    def sides(self):\n",
    "        print(\"Triangle has 3 sides.\")      "
   ]
  },
  {
   "cell_type": "code",
   "execution_count": 50,
   "id": "553c28f5-3122-429c-8ac7-f96709d4862e",
   "metadata": {},
   "outputs": [],
   "source": [
    "Triangle = triangle()"
   ]
  },
  {
   "cell_type": "code",
   "execution_count": 51,
   "id": "b89fae51-cc8f-417c-9a9b-a2f02efad6f8",
   "metadata": {},
   "outputs": [
    {
     "name": "stdout",
     "output_type": "stream",
     "text": [
      "Triangle has 3 sides.\n"
     ]
    }
   ],
   "source": [
    "Triangle.sides()"
   ]
  },
  {
   "cell_type": "markdown",
   "id": "c4a5d231-b5cb-4619-86c5-cc60eed66663",
   "metadata": {},
   "source": [
    "### OVERLOADING\n",
    "\n",
    "- let your method know how you'll act in differnt scenerios"
   ]
  },
  {
   "cell_type": "code",
   "execution_count": 55,
   "id": "11dbbd98-28bb-451c-b000-3697341b78a5",
   "metadata": {},
   "outputs": [
    {
     "name": "stdout",
     "output_type": "stream",
     "text": [
      "3\n",
      "4.0\n",
      "Hello, world!\n"
     ]
    }
   ],
   "source": [
    "from typing import overload\n",
    "\n",
    "class Adder():\n",
    "\n",
    "    @overload\n",
    "    def add(self, x:int , y:int) -> int :\n",
    "        ...\n",
    "\n",
    "    @overload \n",
    "    def add(self, x:float, y:float) -> float :\n",
    "        ...\n",
    "\n",
    "    @overload\n",
    "    def add(self, x:str, y:str) -> str:\n",
    "        ...\n",
    "\n",
    "    def add(self, x, y):\n",
    "        if isinstance(x, int) and isinstance(y, int):\n",
    "            return (x+y)\n",
    "        elif isinstance(x, float) and isinstance(y, float):\n",
    "            return (x+y)\n",
    "        elif isinstance(x, str) and isinstance(y, str):\n",
    "            return (x+y)\n",
    "        else:\n",
    "            raise TypeError(\"Type Error...!!!\")\n",
    "\n",
    "# Usage examples\n",
    "adder = Adder()\n",
    "result1 = adder.add(1, 2)  # Should return 3\n",
    "result2 = adder.add(1.5, 2.5)  # Should return 4.0\n",
    "result3 = adder.add(\"Hello, \", \"world!\")  # Should return \"Hello, world!\"\n",
    "\n",
    "# Overridding & polymorphism\n",
    "print(result1)\n",
    "print(result2)\n",
    "print(result3)"
   ]
  },
  {
   "cell_type": "markdown",
   "id": "5f888748-4e54-4009-af2d-7e0e87ef49d5",
   "metadata": {},
   "source": [
    "### Overriding \n",
    "getting the last updated methods/attribute"
   ]
  },
  {
   "cell_type": "code",
   "execution_count": 64,
   "id": "1fc9739d-a801-4390-b1b7-ef2cef6042a1",
   "metadata": {},
   "outputs": [],
   "source": [
    "class Animal():\n",
    "    def eating(self,food): #same method \n",
    "        print(f\"Animal is eating {food}\")\n",
    "\n",
    "class Bird(Animal):\n",
    "    def eating(self, food):\n",
    "        print(f\"Bird is eating {food}\")"
   ]
  },
  {
   "cell_type": "code",
   "execution_count": 65,
   "id": "51e53fa5-167d-484d-8103-1874b813fdc9",
   "metadata": {},
   "outputs": [],
   "source": [
    "bird = Bird() # child -> parents"
   ]
  },
  {
   "cell_type": "code",
   "execution_count": 66,
   "id": "2fe289c3-2d9d-411e-9208-e82b6990f20f",
   "metadata": {},
   "outputs": [
    {
     "name": "stdout",
     "output_type": "stream",
     "text": [
      "Bird is eating aalu\n"
     ]
    }
   ],
   "source": [
    "bird.eating(\"aalu\")"
   ]
  },
  {
   "cell_type": "markdown",
   "id": "62348b07-1f7a-4738-b3ee-79644495a8db",
   "metadata": {},
   "source": [
    "### PLOYMORPHISM\n",
    "The ability of different classes to respond to the same message (method call) in different ways. This allows for code to work with objects of various classes as if they were objects of a common superclass."
   ]
  },
  {
   "cell_type": "code",
   "execution_count": 67,
   "id": "ed2e1223-1624-426a-a5fd-e635bee2fb14",
   "metadata": {},
   "outputs": [
    {
     "name": "stdout",
     "output_type": "stream",
     "text": [
      "Bird is eating aalu\n"
     ]
    }
   ],
   "source": [
    "bird = Bird() # child -> parents\n",
    "bird.eating(\"aalu\")"
   ]
  },
  {
   "cell_type": "code",
   "execution_count": 68,
   "id": "423bcf3d-e297-4289-bef3-df987ce6fdbb",
   "metadata": {},
   "outputs": [
    {
     "name": "stdout",
     "output_type": "stream",
     "text": [
      "Animal is eating aalu\n"
     ]
    }
   ],
   "source": [
    "bird = Animal() # child -> parents\n",
    "bird.eating(\"aalu\")"
   ]
  },
  {
   "cell_type": "markdown",
   "id": "444c738e-a83a-44ac-bdb2-a551fc3a91a5",
   "metadata": {},
   "source": [
    "### Encapsulation"
   ]
  },
  {
   "cell_type": "code",
   "execution_count": 75,
   "id": "569b22fe-9a32-49f0-8a2c-5128e2a3f1c5",
   "metadata": {},
   "outputs": [],
   "source": [
    "class saylani():\n",
    "    def __init__(self):\n",
    "        self.helpline = \"786\" #public\n",
    "        self._batch = \"Python\" # protected\n",
    "        self.__result = \"70%\" #private"
   ]
  },
  {
   "cell_type": "code",
   "execution_count": 76,
   "id": "dffaa7fb-ed9b-44d9-9a1d-1c44984ee305",
   "metadata": {},
   "outputs": [],
   "source": [
    "s = saylani()"
   ]
  },
  {
   "cell_type": "code",
   "execution_count": 77,
   "id": "4cc63456-5653-43a4-b9bb-c0bee274158e",
   "metadata": {},
   "outputs": [
    {
     "data": {
      "text/plain": [
       "'786'"
      ]
     },
     "execution_count": 77,
     "metadata": {},
     "output_type": "execute_result"
    }
   ],
   "source": [
    "s.helpline # public"
   ]
  },
  {
   "cell_type": "code",
   "execution_count": 85,
   "id": "402cef25-c8b7-47a8-8a98-1d9383df0b2b",
   "metadata": {},
   "outputs": [
    {
     "data": {
      "text/plain": [
       "'123'"
      ]
     },
     "execution_count": 85,
     "metadata": {},
     "output_type": "execute_result"
    }
   ],
   "source": [
    "s.helpline = '123' # trying to update\n",
    "s.helpline"
   ]
  },
  {
   "cell_type": "code",
   "execution_count": 81,
   "id": "c0aae59d-01db-4652-84aa-b99107fe4ed5",
   "metadata": {},
   "outputs": [
    {
     "data": {
      "text/plain": [
       "'Python'"
      ]
     },
     "execution_count": 81,
     "metadata": {},
     "output_type": "execute_result"
    }
   ],
   "source": [
    "s._batch #protect"
   ]
  },
  {
   "cell_type": "code",
   "execution_count": 86,
   "id": "f9bdc87f-9434-4a45-b8d3-9f8042f7fe65",
   "metadata": {},
   "outputs": [
    {
     "data": {
      "text/plain": [
       "'123'"
      ]
     },
     "execution_count": 86,
     "metadata": {},
     "output_type": "execute_result"
    }
   ],
   "source": [
    "s._batch = '123' # trying to update\n",
    "s._batch"
   ]
  },
  {
   "cell_type": "code",
   "execution_count": 90,
   "id": "007a3626-1f7a-4a68-a5bc-8abac00ac39f",
   "metadata": {},
   "outputs": [
    {
     "ename": "AttributeError",
     "evalue": "'saylani' object has no attribute '__result'",
     "output_type": "error",
     "traceback": [
      "\u001b[1;31m---------------------------------------------------------------------------\u001b[0m",
      "\u001b[1;31mAttributeError\u001b[0m                            Traceback (most recent call last)",
      "Cell \u001b[1;32mIn[90], line 1\u001b[0m\n\u001b[1;32m----> 1\u001b[0m s\u001b[38;5;241m.\u001b[39m__result\n",
      "\u001b[1;31mAttributeError\u001b[0m: 'saylani' object has no attribute '__result'"
     ]
    }
   ],
   "source": [
    "s.__result #private"
   ]
  },
  {
   "cell_type": "code",
   "execution_count": 93,
   "id": "9103c5d1-8f10-4483-9716-59d768257532",
   "metadata": {},
   "outputs": [
    {
     "data": {
      "text/plain": [
       "'100%'"
      ]
     },
     "execution_count": 93,
     "metadata": {},
     "output_type": "execute_result"
    }
   ],
   "source": [
    "s._saylani__result = \"100%\"\n",
    "s._saylani__result"
   ]
  },
  {
   "cell_type": "markdown",
   "id": "baa29065-7fb0-4b48-ba5f-f4f01474937a",
   "metadata": {},
   "source": [
    "TASK:\n",
    "- use encapsulation for class i:e., `StudentLogin():`\n",
    "- initialize two `static` but _private_ attributes i:e., `__user_name`, `__password`\n",
    "- create  one _private_ methods i:e., name `__dbconectivity()` that will validate you username & password. if both are valid then should print *\"valid user\"* otherwise *\"not valid\"*\n",
    "- create one public methods i:e., update password & it should update your private password"
   ]
  },
  {
   "cell_type": "code",
   "execution_count": 108,
   "id": "a046b50a-afb0-4191-99ed-bf8ef8004c51",
   "metadata": {},
   "outputs": [],
   "source": [
    "\n",
    "class Studentlogin():\n",
    "    \n",
    "    def __init__(self):\n",
    "        self.__user_name = \"Syed Subhan\"\n",
    "        self.__password = \"Subhan@2024\"\n",
    "    def __dbconectivity(self, user, password):\n",
    "        if self.__user_name == user and self.__password == password:\n",
    "            print(\"Valid\")\n",
    "        else: \n",
    "            print(\"Invalid\")\n",
    "    def update_password(self):\n",
    "        update_pass = input(\"Enter the new password : \")\n",
    "        self._Studentlogin__password = update_pass\n",
    "        return f\"Your updated password{self._Studentlogin__password}\"\n",
    "         \n",
    "    def login(self, expect_name, expect_pass):\n",
    "        return self.__dbconectivity(expect_name, expect_pass)"
   ]
  },
  {
   "cell_type": "code",
   "execution_count": 109,
   "id": "872c7331-3fa7-4ea7-a8eb-1a3605c02129",
   "metadata": {},
   "outputs": [
    {
     "name": "stdin",
     "output_type": "stream",
     "text": [
      "User name:  Syed Subhan\n",
      "Password :  Subhan@2024\n"
     ]
    },
    {
     "name": "stdout",
     "output_type": "stream",
     "text": [
      "Valid\n"
     ]
    }
   ],
   "source": [
    "expect_name = input(\"User name: \")\n",
    "expect_pass = input(\"Password : \")\n",
    "user = Studentlogin()\n",
    "user.login(expect_name, expect_pass)\n"
   ]
  },
  {
   "cell_type": "code",
   "execution_count": null,
   "id": "8fa69c78-811a-4588-9f00-c8225f79c682",
   "metadata": {},
   "outputs": [],
   "source": []
  }
 ],
 "metadata": {
  "kernelspec": {
   "display_name": "Python 3 (ipykernel)",
   "language": "python",
   "name": "python3"
  },
  "language_info": {
   "codemirror_mode": {
    "name": "ipython",
    "version": 3
   },
   "file_extension": ".py",
   "mimetype": "text/x-python",
   "name": "python",
   "nbconvert_exporter": "python",
   "pygments_lexer": "ipython3",
   "version": "3.11.7"
  }
 },
 "nbformat": 4,
 "nbformat_minor": 5
}
