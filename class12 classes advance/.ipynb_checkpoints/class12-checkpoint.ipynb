{
 "cells": [
  {
   "cell_type": "code",
   "execution_count": 1,
   "id": "1e7b19b2-e4f5-40e1-af41-8c34fd91c7c2",
   "metadata": {},
   "outputs": [],
   "source": [
    "name = 'Qasim'"
   ]
  },
  {
   "cell_type": "code",
   "execution_count": 2,
   "id": "a84be33d-bf69-443b-ba0e-f11769b19713",
   "metadata": {},
   "outputs": [
    {
     "name": "stdout",
     "output_type": "stream",
     "text": [
      "<class 'str'>\n"
     ]
    }
   ],
   "source": [
    "print(type(name))"
   ]
  },
  {
   "cell_type": "code",
   "execution_count": 3,
   "id": "ced73a3e-3c30-4fed-bf90-fc47111a201b",
   "metadata": {},
   "outputs": [],
   "source": [
    "lst = [1,True, 'Qasim', 1.15]"
   ]
  },
  {
   "cell_type": "code",
   "execution_count": 4,
   "id": "9178753f-90ec-4e88-b58e-b3bc9b25b420",
   "metadata": {},
   "outputs": [
    {
     "name": "stdout",
     "output_type": "stream",
     "text": [
      "<class 'list'>\n"
     ]
    }
   ],
   "source": [
    "print(type(lst))"
   ]
  },
  {
   "cell_type": "code",
   "execution_count": 5,
   "id": "30ddb12b-8386-428c-bcc0-83c43b8ebb3a",
   "metadata": {},
   "outputs": [],
   "source": [
    "lst.append('Hassan') \n",
    "\n",
    "# this is an activity --> functionality\n",
    "# METHOD are nothing but a part behavoir of any class\n",
    "# OBJECT: is nothing but a instance that possess the blueprint of class"
   ]
  },
  {
   "cell_type": "code",
   "execution_count": 7,
   "id": "bae3abf3-6be1-4470-9aa3-8182c183bb39",
   "metadata": {},
   "outputs": [],
   "source": [
    "lst2 = [1,True, 'Qasim', 1.15]"
   ]
  },
  {
   "cell_type": "code",
   "execution_count": 8,
   "id": "4ae70362-8d96-49fd-9936-f74b4e8deb60",
   "metadata": {},
   "outputs": [
    {
     "data": {
      "text/plain": [
       "['__add__',\n",
       " '__class__',\n",
       " '__class_getitem__',\n",
       " '__contains__',\n",
       " '__delattr__',\n",
       " '__delitem__',\n",
       " '__dir__',\n",
       " '__doc__',\n",
       " '__eq__',\n",
       " '__format__',\n",
       " '__ge__',\n",
       " '__getattribute__',\n",
       " '__getitem__',\n",
       " '__getstate__',\n",
       " '__gt__',\n",
       " '__hash__',\n",
       " '__iadd__',\n",
       " '__imul__',\n",
       " '__init__',\n",
       " '__init_subclass__',\n",
       " '__iter__',\n",
       " '__le__',\n",
       " '__len__',\n",
       " '__lt__',\n",
       " '__mul__',\n",
       " '__ne__',\n",
       " '__new__',\n",
       " '__reduce__',\n",
       " '__reduce_ex__',\n",
       " '__repr__',\n",
       " '__reversed__',\n",
       " '__rmul__',\n",
       " '__setattr__',\n",
       " '__setitem__',\n",
       " '__sizeof__',\n",
       " '__str__',\n",
       " '__subclasshook__',\n",
       " 'append',\n",
       " 'clear',\n",
       " 'copy',\n",
       " 'count',\n",
       " 'extend',\n",
       " 'index',\n",
       " 'insert',\n",
       " 'pop',\n",
       " 'remove',\n",
       " 'reverse',\n",
       " 'sort']"
      ]
     },
     "execution_count": 8,
     "metadata": {},
     "output_type": "execute_result"
    }
   ],
   "source": [
    "dir(lst2) # __add__ everythign method starts/ends ___ is called dunder methods"
   ]
  },
  {
   "cell_type": "code",
   "execution_count": 9,
   "id": "7bf0efc9-275a-4ff3-872c-5c6638a84912",
   "metadata": {},
   "outputs": [
    {
     "data": {
      "text/plain": [
       "['append',\n",
       " 'clear',\n",
       " 'copy',\n",
       " 'count',\n",
       " 'extend',\n",
       " 'index',\n",
       " 'insert',\n",
       " 'pop',\n",
       " 'remove',\n",
       " 'reverse',\n",
       " 'sort']"
      ]
     },
     "execution_count": 9,
     "metadata": {},
     "output_type": "execute_result"
    }
   ],
   "source": [
    "[method for method in dir(lst2) if \"__\" not in method]"
   ]
  },
  {
   "cell_type": "markdown",
   "id": "164270ce-105a-438b-a34d-d6b6f625838b",
   "metadata": {},
   "source": [
    "- ATTTRIBUTES: charactertistcis of class are called attributes\n",
    "- CONSTRUCTOR\n",
    "    - special type of a methods\n",
    "    - that initialize class attributes\n",
    "- CLASS: is a blueprint that posses Attributes (charatertics) and Methods(Behaviors)"
   ]
  },
  {
   "cell_type": "markdown",
   "id": "8b0bf382-db76-4eb4-9adc-6bf1705913e4",
   "metadata": {},
   "source": [
    "## Classes \n",
    "- Constructor(special type of method)\n",
    "- Attributes\n",
    "- Methods\n",
    "- Intialize object"
   ]
  },
  {
   "cell_type": "markdown",
   "id": "dd8b0f82-786a-467f-ad42-289749ac10c1",
   "metadata": {},
   "source": [
    "Examples: Suppose we're Working in automobile (cars) company\n",
    "\n",
    "- class ==> automobiles\n",
    "- attibutes (characteristics) ==> model, year, name, brand, color\n",
    "- method (Behaviors) ==> travel, drtifiting, raching, carry"
   ]
  },
  {
   "cell_type": "code",
   "execution_count": 10,
   "id": "1fa3a316-9812-4299-ae1f-9307114e7594",
   "metadata": {},
   "outputs": [],
   "source": [
    "class automobiles():\n",
    "    #constructor\n",
    "    def __init__(self, model_year, name, brand, color):\n",
    "        self.model_year = model_year # attributes\n",
    "        self.name = name\n",
    "        self.brand = brand\n",
    "        self.color = color\n",
    "    \n",
    "    #method-1\n",
    "    def travel(self, passenger : str) -> None:\n",
    "        print(f\"{passenger} is travelling in {self.name}\") \n",
    "    \n",
    "    #methods-2\n",
    "    def carry(self, weight : float, goods: str) -> None:\n",
    "        print(f\"{self.name} is carrying {goods} of weight {weight}\")"
   ]
  },
  {
   "cell_type": "code",
   "execution_count": 11,
   "id": "c8b603fd-8af5-429d-8b14-b217c1d38c1f",
   "metadata": {},
   "outputs": [],
   "source": [
    "car1 = automobiles(2015, \"Suzuki\", \"Bolan\", \"Black\")"
   ]
  },
  {
   "cell_type": "code",
   "execution_count": 12,
   "id": "8bdfb858-db96-4d21-8b98-b58aca88d00f",
   "metadata": {},
   "outputs": [
    {
     "name": "stdout",
     "output_type": "stream",
     "text": [
      "Suzuki\n",
      "Bolan\n",
      "2015\n",
      "Black\n"
     ]
    }
   ],
   "source": [
    "print(car1.name)\n",
    "print(car1.brand)\n",
    "print(car1.model_year)\n",
    "print(car1.color)"
   ]
  },
  {
   "cell_type": "code",
   "execution_count": 13,
   "id": "a0bab689-a384-49fc-a752-093001366be2",
   "metadata": {},
   "outputs": [
    {
     "name": "stdout",
     "output_type": "stream",
     "text": [
      "Dawood is travelling in Suzuki\n"
     ]
    }
   ],
   "source": [
    "car1.travel(\"Dawood\")"
   ]
  },
  {
   "cell_type": "code",
   "execution_count": 27,
   "id": "175ee4ba-c983-4df9-9b4f-c36b2137a937",
   "metadata": {},
   "outputs": [
    {
     "name": "stdout",
     "output_type": "stream",
     "text": [
      "Suzuki is carrying Halwa of weight 0.5\n"
     ]
    }
   ],
   "source": [
    "car1.carry(0.5 , \"Halwa\")"
   ]
  },
  {
   "cell_type": "markdown",
   "id": "61fa4c3f-26e8-4249-a05d-8666a6026454",
   "metadata": {},
   "source": [
    "#### TASK: create class for saylani and create atleast 2 attributes, 1 method & 2 class variables"
   ]
  },
  {
   "cell_type": "code",
   "execution_count": 62,
   "id": "8fd51b3a-03cf-4266-b0dd-34b3a5a51d2e",
   "metadata": {},
   "outputs": [],
   "source": [
    "class Saylani():\n",
    "    #class variables\n",
    "    saylaniHelpline = '05454 545 545 5'\n",
    "    branchNo = 0\n",
    "    \n",
    "    #constructor\n",
    "    def __init__(self, name, roll,batch):\n",
    "        self.name = name\n",
    "        self.roll = roll\n",
    "        self.batch = batch\n",
    "        Saylani.branchNo +=1\n",
    "    \n",
    "    #method-1\n",
    "    def print_card(self) -> None:\n",
    "        card = f\"\"\"\n",
    "            Name: {self.name}\n",
    "            Roll:  {self.roll}\n",
    "            Batch:  {self.batch}\n",
    "        \"\"\"\n",
    "        print(card)\n"
   ]
  },
  {
   "cell_type": "code",
   "execution_count": 63,
   "id": "774ca32f-437e-4efe-817d-c65ae3160973",
   "metadata": {},
   "outputs": [
    {
     "name": "stdout",
     "output_type": "stream",
     "text": [
      "Current branch number 0\n",
      "After creating object branch number 1\n",
      "If you an issue call on 05454 545 545 5\n"
     ]
    }
   ],
   "source": [
    "print(f'Current branch number {Saylani.branchNo}')\n",
    "saylani= Saylani(\"Aftab Hussain\",\"Python--001\",3)\n",
    "print(f'After creating object branch number {Saylani.branchNo}')\n",
    "print(f'If you an issue call on {Saylani.saylaniHelpline}')"
   ]
  },
  {
   "cell_type": "code",
   "execution_count": 31,
   "id": "1f5d4e0a-4124-4525-bd6c-8f6cadaa9887",
   "metadata": {},
   "outputs": [
    {
     "name": "stdout",
     "output_type": "stream",
     "text": [
      "\n",
      "            Name: Aftab Hussain\n",
      "            Roll:  Python--001\n",
      "            Batch:  3\n",
      "        \n"
     ]
    }
   ],
   "source": [
    "saylani.print_card()"
   ]
  },
  {
   "cell_type": "markdown",
   "id": "204c5a15-b69c-4d66-a5a8-80804e2718fa",
   "metadata": {},
   "source": [
    "Example: 02\n",
    "\n",
    "- class: teachers\n",
    "- attributes: name, course, timings\n",
    "- methods: details, teaching"
   ]
  },
  {
   "cell_type": "code",
   "execution_count": 51,
   "id": "aee050af-fc0f-42f5-91a1-50711d9bd221",
   "metadata": {},
   "outputs": [],
   "source": [
    "class teacher():\n",
    "    # class variables\n",
    "    counter = 0\n",
    "    oraganization = \"Saylani Mass IT Training\"\n",
    "    \n",
    "    #constructor\n",
    "    def __init__(self, name, courses, timings):\n",
    "        self.name = name\n",
    "        self.courses = courses\n",
    "        self.timings = timings\n",
    "        teacher.counter +=1\n",
    "\n",
    "    #methods\n",
    "    def details(self):\n",
    "        print(f\" Teacher {self.name} is teaching {self.courses} at {self.timings}\")\n",
    "    def teaching(self, course):\n",
    "        print(f\"right now course {self.name} is teaching {course}\")  "
   ]
  },
  {
   "cell_type": "code",
   "execution_count": 52,
   "id": "eae36a9f-022e-4fee-8f88-cbd80d0abbb3",
   "metadata": {},
   "outputs": [
    {
     "data": {
      "text/plain": [
       "1"
      ]
     },
     "execution_count": 52,
     "metadata": {},
     "output_type": "execute_result"
    }
   ],
   "source": [
    "obj1 = teacher(\"Faisal\", \"Python Programming\", \"9to11\")\n",
    "obj1.counter"
   ]
  },
  {
   "cell_type": "code",
   "execution_count": 53,
   "id": "0d43aaa8-583d-4988-81b2-c5317636709b",
   "metadata": {},
   "outputs": [
    {
     "name": "stdout",
     "output_type": "stream",
     "text": [
      "2\n",
      "Saylani Mass IT Training\n"
     ]
    }
   ],
   "source": [
    "obj2 = teacher(\"Ayan\", \"Data Engineering\", \"2to5\")\n",
    "print(obj2.counter)\n",
    "print(obj2.oraganization)"
   ]
  },
  {
   "cell_type": "code",
   "execution_count": 56,
   "id": "a11a3bc2-96f3-452a-a4db-37a51f9012f6",
   "metadata": {},
   "outputs": [
    {
     "name": "stdout",
     "output_type": "stream",
     "text": [
      "2\n",
      "Saylani Mass IT Training\n"
     ]
    }
   ],
   "source": [
    "# direct calling\n",
    "print(teacher.counter)\n",
    "print(teacher.oraganization)"
   ]
  },
  {
   "cell_type": "code",
   "execution_count": 20,
   "id": "a50f2e20-29c8-48ea-a1a6-5babc51d6465",
   "metadata": {},
   "outputs": [],
   "source": [
    "## The static keyword is used to construct methods that will exist \n",
    "## regardless of whether or not any instances of the class are generated.\n",
    "\n",
    "class MathOperations():\n",
    "    roll='csc-22f-082' #static var\n",
    "\n",
    "    @staticmethod\n",
    "    def add(number1: int , number2: int) -> None :\n",
    "        '''Add two numbers'''\n",
    "        sum = number1+number2\n",
    "        print(f\" Sum of {number1} and {number2} is {sum}\")\n",
    "    @staticmethod\n",
    "    def mul(number1: int , number2: int) -> None :\n",
    "        '''Add two numbers'''\n",
    "        prod = number1*number2\n",
    "        print(f\" prod of {number1} and {number2} is {prod}\")        "
   ]
  },
  {
   "cell_type": "code",
   "execution_count": 23,
   "id": "0e10ac91-638f-4403-87d4-1a080c8e369e",
   "metadata": {},
   "outputs": [
    {
     "name": "stdout",
     "output_type": "stream",
     "text": [
      "csc-22f-082\n",
      " Sum of 5 and 6 is 11\n",
      " prod of 5 and 6 is 30\n"
     ]
    }
   ],
   "source": [
    "print(MathOperations.roll)\n",
    "MathOperations.add(5,6)\n",
    "MathOperations.mul(5,6)"
   ]
  },
  {
   "cell_type": "markdown",
   "id": "3c87d376-8fd6-4fd8-8202-433571b15820",
   "metadata": {},
   "source": [
    "## Object Oriented Programming (OOP)\n",
    "\n",
    "Pillars of OOP:\n",
    "1. Inheritance\n",
    "2. Polymorphism\n",
    "3. Abstraction\n",
    "4. Encalsualtion"
   ]
  },
  {
   "cell_type": "code",
   "execution_count": 27,
   "id": "0609c02a-68ba-4709-bcc9-3593b85a55e9",
   "metadata": {},
   "outputs": [],
   "source": [
    "class Parent():\n",
    "    #constructor\n",
    "    def __init__(self, eye_color, skin_color):\n",
    "        self.eye_color = eye_color # attributes\n",
    "        self.skin_color = skin_color\n",
    "        \n",
    "    #methods\n",
    "    def speak(self):\n",
    "        print(f'Can Speak')\n",
    "\n",
    "class child(Parent):\n",
    "    pass"
   ]
  },
  {
   "cell_type": "code",
   "execution_count": 28,
   "id": "4d98652d-96c0-4169-bd20-d5f2340541c2",
   "metadata": {},
   "outputs": [
    {
     "name": "stdout",
     "output_type": "stream",
     "text": [
      "blue\n",
      "brown\n",
      "Can Speak\n"
     ]
    }
   ],
   "source": [
    "# parent Class\n",
    "parent_obj = Parent('blue', 'brown')\n",
    "print(parent_obj.eye_color)\n",
    "print(parent_obj.skin_color)\n",
    "parent_obj.speak()"
   ]
  },
  {
   "cell_type": "code",
   "execution_count": 32,
   "id": "d025b9a0-33c3-44f6-bd0f-45e962102c5b",
   "metadata": {},
   "outputs": [
    {
     "ename": "TypeError",
     "evalue": "Parent.__init__() missing 2 required positional arguments: 'eye_color' and 'skin_color'",
     "output_type": "error",
     "traceback": [
      "\u001b[1;31m---------------------------------------------------------------------------\u001b[0m",
      "\u001b[1;31mTypeError\u001b[0m                                 Traceback (most recent call last)",
      "Cell \u001b[1;32mIn[32], line 1\u001b[0m\n\u001b[1;32m----> 1\u001b[0m child_obj \u001b[38;5;241m=\u001b[39m child()\n",
      "\u001b[1;31mTypeError\u001b[0m: Parent.__init__() missing 2 required positional arguments: 'eye_color' and 'skin_color'"
     ]
    }
   ],
   "source": [
    "child_obj = child()\n",
    "child"
   ]
  },
  {
   "cell_type": "code",
   "execution_count": 30,
   "id": "4eb40076-6a40-45f4-83b7-5d5a870f003b",
   "metadata": {},
   "outputs": [],
   "source": [
    "child_obj = child(\"green\", \"fair\")"
   ]
  },
  {
   "cell_type": "code",
   "execution_count": 31,
   "id": "abd91127-f032-4ce6-8c91-6fc997fcaaf2",
   "metadata": {},
   "outputs": [
    {
     "name": "stdout",
     "output_type": "stream",
     "text": [
      "green\n",
      "fair\n",
      "Can Speak\n"
     ]
    }
   ],
   "source": [
    "child_obj = child(\"green\", \"fair\")\n",
    "\n",
    "print(child_obj.eye_color)\n",
    "print(child_obj.skin_color)\n",
    "child_obj.speak()"
   ]
  },
  {
   "cell_type": "code",
   "execution_count": 36,
   "id": "af7c0e76-18c1-4260-9a29-edb7a2dd0c84",
   "metadata": {},
   "outputs": [],
   "source": [
    "class Parent():\n",
    "    #constructor\n",
    "    def __init__(self, eye_color, skin_color):\n",
    "        self.eye_color = eye_color # attributes\n",
    "        self.skin_color = skin_color\n",
    "        \n",
    "    #methods\n",
    "    def speak(self):\n",
    "        print(f'Can Speak')\n",
    "\n",
    "class child(Parent):\n",
    "    #methods\n",
    "    def learn(self):\n",
    "        print(f'Can Learn new things')"
   ]
  },
  {
   "cell_type": "code",
   "execution_count": 37,
   "id": "8414fa31-5c2d-4791-849b-a7f247b541d9",
   "metadata": {},
   "outputs": [
    {
     "name": "stdout",
     "output_type": "stream",
     "text": [
      "green\n",
      "fair\n",
      "Can Speak\n",
      "Can Learn new things\n"
     ]
    }
   ],
   "source": [
    "child_obj = child(\"green\", \"fair\")\n",
    "print(child_obj.eye_color)\n",
    "print(child_obj.skin_color)\n",
    "child_obj.speak()\n",
    "child_obj.learn()"
   ]
  },
  {
   "cell_type": "code",
   "execution_count": 38,
   "id": "0cfc0bf7-b945-4d18-b715-a626004505e7",
   "metadata": {},
   "outputs": [],
   "source": [
    "class Parent():\n",
    "    #constructor\n",
    "    def __init__(self, eye_color, skin_color):\n",
    "        self.eye_color = eye_color # attributes\n",
    "        self.skin_color = skin_color\n",
    "        \n",
    "    #methods\n",
    "    def speak(self):\n",
    "        print(f'Can Speak')\n",
    "\n",
    "class child(Parent):\n",
    "    def __init__(self, eye_color, skin_color, hair_color):\n",
    "        super().__init__(eye_color, skin_color)\n",
    "        self.hair_color = hair_color\n",
    "    #methods\n",
    "    def learn(self):\n",
    "        print(f'Can Learn new things')"
   ]
  },
  {
   "cell_type": "code",
   "execution_count": 41,
   "id": "d78763da-52e2-416b-b6b1-66b1827c34b8",
   "metadata": {},
   "outputs": [
    {
     "name": "stdout",
     "output_type": "stream",
     "text": [
      "black\n",
      "brown\n",
      "white\n",
      "Can Learn new things\n"
     ]
    }
   ],
   "source": [
    "# ==> Child class with Inheritance & one new attribute & behavior\n",
    "\n",
    "ch_obj = child(\"black\", \"brown\", \"white\")\n",
    "print(ch_obj.eye_color)\n",
    "print(ch_obj.skin_color)\n",
    "print(ch_obj.hair_color)\n",
    "child_obj.learn()"
   ]
  },
  {
   "cell_type": "code",
   "execution_count": 42,
   "id": "b6c687ca-1059-4788-97ac-5a148d61eb92",
   "metadata": {},
   "outputs": [],
   "source": [
    "class Accountant:\n",
    "    person = 0\n",
    "    def __init__(self,name:str,id:int,balance:float):\n",
    "        self.name = name \n",
    "        self.id = id\n",
    "        self.balance = balance\n",
    "    def BalanceInquiry(self):\n",
    "        print(f\"The Balance in your Bank account is {self.balance}\")\n",
    "    def withdrawmoney(self,money):\n",
    "        self.balance = self.balance - money\n",
    "        print(f\"The Amount is sucessfully withdrawn and now the balance is {self.balance}\")\n",
    "        "
   ]
  },
  {
   "cell_type": "code",
   "execution_count": 43,
   "id": "f67b66e2-3b33-4b49-b746-cae123b4c3a7",
   "metadata": {},
   "outputs": [],
   "source": [
    "Person1 = Accountant(\"daniyal\",123456789,100000)"
   ]
  },
  {
   "cell_type": "code",
   "execution_count": 44,
   "id": "687bf1f6-7103-421e-8dd6-24e6e2ecb4ed",
   "metadata": {},
   "outputs": [
    {
     "name": "stdout",
     "output_type": "stream",
     "text": [
      "The Amount is sucessfully withdrawn and now the balance is 75000\n"
     ]
    }
   ],
   "source": [
    "Person1.withdrawmoney(25000)"
   ]
  },
  {
   "cell_type": "code",
   "execution_count": 45,
   "id": "509c339d-4887-4923-ab75-fa9886bcb1bf",
   "metadata": {},
   "outputs": [
    {
     "data": {
      "text/plain": [
       "75000"
      ]
     },
     "execution_count": 45,
     "metadata": {},
     "output_type": "execute_result"
    }
   ],
   "source": [
    "Person1.balance"
   ]
  },
  {
   "cell_type": "code",
   "execution_count": 46,
   "id": "c760db65-214a-4301-95ce-2a15c537d030",
   "metadata": {},
   "outputs": [],
   "source": [
    "class CBI(Accountant):\n",
    "    pass"
   ]
  },
  {
   "cell_type": "code",
   "execution_count": 47,
   "id": "6123ce5c-96b3-4caa-8c34-9696212f995b",
   "metadata": {},
   "outputs": [],
   "source": [
    "Bank = CBI(\"Danish\",123458,100000)"
   ]
  },
  {
   "cell_type": "code",
   "execution_count": 48,
   "id": "28ee0531-5528-49ca-9457-e3d5ea5d8962",
   "metadata": {},
   "outputs": [
    {
     "name": "stdout",
     "output_type": "stream",
     "text": [
      "The Amount is sucessfully withdrawn and now the balance is 25000\n"
     ]
    }
   ],
   "source": [
    "Bank.withdrawmoney(75000)"
   ]
  },
  {
   "cell_type": "code",
   "execution_count": null,
   "id": "b641da1c-3ee5-4919-8ef5-acc4257e98c9",
   "metadata": {},
   "outputs": [],
   "source": [
    "Father\n",
    "-> eye_color\n",
    "-> speak (behavious)\n",
    "\n",
    "Mother\n",
    "-> skin_color\n",
    "-> teach (Behaviour)\n",
    "\n",
    "child\n",
    "Father.__init__\n",
    "Mother.__init__"
   ]
  },
  {
   "cell_type": "code",
   "execution_count": 56,
   "id": "22a10b79-35ff-4f77-a474-777465c89833",
   "metadata": {},
   "outputs": [],
   "source": [
    "class Father():\n",
    "    def __init__ (self, eye_color):\n",
    "        self.eye_color = eye_color\n",
    "    def speak(self):\n",
    "        print(\"Hello\")\n",
    "\n",
    "class Mother():\n",
    "    def __init__ (self, skin_color):\n",
    "        self.skin_color = skin_color\n",
    "    def teach(self):\n",
    "        print(\"Teaching\")\n",
    "\n",
    "class Child(Father,Mother):\n",
    "    def __init__(self, eye_color, skin_color):\n",
    "        Father.__init__(self,eye_color)\n",
    "        Mother.__init__(self,skin_color)\n",
    "    "
   ]
  },
  {
   "cell_type": "code",
   "execution_count": 57,
   "id": "e3b455ab-ee89-48d1-bc08-d596a9896b82",
   "metadata": {},
   "outputs": [],
   "source": [
    "chd_obj = Child('Grey','Black')"
   ]
  },
  {
   "cell_type": "code",
   "execution_count": 58,
   "id": "7ff5fdfd-6c4d-4c4d-a298-64441d14d729",
   "metadata": {},
   "outputs": [
    {
     "name": "stdout",
     "output_type": "stream",
     "text": [
      "Hello\n"
     ]
    }
   ],
   "source": [
    "chd_obj.speak()"
   ]
  },
  {
   "cell_type": "code",
   "execution_count": 59,
   "id": "58fd2928-4348-49a0-a118-03f5ce800280",
   "metadata": {},
   "outputs": [
    {
     "name": "stdout",
     "output_type": "stream",
     "text": [
      "Teaching\n"
     ]
    }
   ],
   "source": [
    "chd_obj.teach()"
   ]
  },
  {
   "cell_type": "code",
   "execution_count": 60,
   "id": "565094d8-5f16-4a52-a7ad-5b43fbabbf64",
   "metadata": {},
   "outputs": [
    {
     "name": "stdout",
     "output_type": "stream",
     "text": [
      "Grey\n"
     ]
    }
   ],
   "source": [
    "print(chd_obj.eye_color)"
   ]
  },
  {
   "cell_type": "code",
   "execution_count": 61,
   "id": "9df78fdf-892e-41e0-a449-afb7cc48b945",
   "metadata": {},
   "outputs": [
    {
     "name": "stdout",
     "output_type": "stream",
     "text": [
      "Black\n"
     ]
    }
   ],
   "source": [
    "print(chd_obj.skin_color)"
   ]
  },
  {
   "cell_type": "markdown",
   "id": "f31a226c-4af2-49fd-9add-8f988714d394",
   "metadata": {},
   "source": [
    "1. Static Methods\n",
    "2. Simple Inheritance\n",
    "3. Only Method Interitance\n",
    "4. Single Class Inheritance ( Attributes + Methods)\n",
    "5. Multi Class Inheritance "
   ]
  },
  {
   "cell_type": "code",
   "execution_count": null,
   "id": "03e27bc9-081b-48ed-b08e-41bd89dd234c",
   "metadata": {},
   "outputs": [],
   "source": []
  }
 ],
 "metadata": {
  "kernelspec": {
   "display_name": "Python 3 (ipykernel)",
   "language": "python",
   "name": "python3"
  },
  "language_info": {
   "codemirror_mode": {
    "name": "ipython",
    "version": 3
   },
   "file_extension": ".py",
   "mimetype": "text/x-python",
   "name": "python",
   "nbconvert_exporter": "python",
   "pygments_lexer": "ipython3",
   "version": "3.11.7"
  }
 },
 "nbformat": 4,
 "nbformat_minor": 5
}
