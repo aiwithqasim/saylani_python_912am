{
  "metadata": {
    "kernelspec": {
      "name": "python",
      "display_name": "Python (Pyodide)",
      "language": "python"
    },
    "language_info": {
      "codemirror_mode": {
        "name": "python",
        "version": 3
      },
      "file_extension": ".py",
      "mimetype": "text/x-python",
      "name": "python",
      "nbconvert_exporter": "python",
      "pygments_lexer": "ipython3",
      "version": "3.8"
    }
  },
  "nbformat_minor": 4,
  "nbformat": 4,
  "cells": [
    {
      "cell_type": "markdown",
      "source": "## Revision",
      "metadata": {}
    },
    {
      "cell_type": "code",
      "source": "def calc_tax(sales_total, tax_rate=0.22):\n    print(sales_total * tax_rate)",
      "metadata": {
        "trusted": true
      },
      "outputs": [],
      "execution_count": null
    },
    {
      "cell_type": "code",
      "source": "calc_tax(sales_total=1000, tax_rate=0.11)",
      "metadata": {
        "trusted": true
      },
      "outputs": [],
      "execution_count": null
    },
    {
      "cell_type": "markdown",
      "source": "## returning fnctions",
      "metadata": {}
    },
    {
      "cell_type": "code",
      "source": "def calc_tax(sales_total, tax_rate=0.22):\n    tax = sales_total * tax_rate\n    return tax",
      "metadata": {
        "trusted": true
      },
      "outputs": [],
      "execution_count": null
    },
    {
      "cell_type": "code",
      "source": "calc_tax(sales_total=1000, tax_rate=0.11)",
      "metadata": {
        "trusted": true
      },
      "outputs": [],
      "execution_count": null
    },
    {
      "cell_type": "markdown",
      "source": "### Functions as variables ",
      "metadata": {}
    },
    {
      "cell_type": "code",
      "source": "def calc_tax(sales_total, tax_rate=0.22):\n    tax = sales_total * tax_rate\n    print(tax) # it is printing NOT returning",
      "metadata": {
        "trusted": true
      },
      "outputs": [],
      "execution_count": null
    },
    {
      "cell_type": "code",
      "source": "tax = calc_tax(sales_total=1000, tax_rate=0.11)\nprint('Hello')",
      "metadata": {
        "trusted": true
      },
      "outputs": [],
      "execution_count": null
    },
    {
      "cell_type": "code",
      "source": "tax # no value in tax variable",
      "metadata": {
        "trusted": true
      },
      "outputs": [],
      "execution_count": null
    },
    {
      "cell_type": "code",
      "source": "def calc_tax(sales_total, tax_rate=0.22):\n    tax = sales_total * tax_rate\n    return tax # it is returning",
      "metadata": {
        "trusted": true
      },
      "outputs": [],
      "execution_count": null
    },
    {
      "cell_type": "code",
      "source": "tax = calc_tax(sales_total=1000, tax_rate=0.11)",
      "metadata": {
        "trusted": true
      },
      "outputs": [],
      "execution_count": null
    },
    {
      "cell_type": "code",
      "source": "tax",
      "metadata": {
        "trusted": true
      },
      "outputs": [],
      "execution_count": null
    },
    {
      "cell_type": "code",
      "source": "customers = {\n0: {'first name': 'David',\n    'last name': 'Elliott',\n    'address': '4803 Wellesley St.',\n    'city': 'LA'},\n1:   {'first name': 'Qasim',\n    'last name': 'Hassan',\n    'address': 'Near SMIT',\n    'city': 'Karachi'},\n2:    {'first name': 'Hassan',\n    'last name': 'Khan',\n    'address': 'Johar town',\n    'city': 'Lahore'}\n}",
      "metadata": {
        "trusted": true
      },
      "outputs": [],
      "execution_count": null
    },
    {
      "cell_type": "code",
      "source": "customers[1]['address']",
      "metadata": {
        "trusted": true
      },
      "outputs": [],
      "execution_count": null
    },
    {
      "cell_type": "code",
      "source": "def customers_details( customer_dict, customer, details):\n    return customer_dict[customer][details]",
      "metadata": {
        "trusted": true
      },
      "outputs": [],
      "execution_count": null
    },
    {
      "cell_type": "code",
      "source": "customer_id = int(input(\"Enter customer Id: \"))\ncustomer_detail = input(\"Enter Customer detail: \")",
      "metadata": {
        "trusted": true
      },
      "outputs": [],
      "execution_count": null
    },
    {
      "cell_type": "code",
      "source": "customers_details(customers, customer_id, customer_detail)",
      "metadata": {
        "trusted": true
      },
      "outputs": [],
      "execution_count": null
    },
    {
      "cell_type": "markdown",
      "source": "## Dealing with unknown arguments using **kwargs",
      "metadata": {}
    },
    {
      "cell_type": "code",
      "source": "def olympic_winner(winner_name, winner_score): # without kwargs\n    print(f\"Winner name is {winner_name} & its score is {winner_score}\")",
      "metadata": {
        "trusted": true
      },
      "outputs": [],
      "execution_count": null
    },
    {
      "cell_type": "code",
      "source": "olympic_winner(\"Dawood\", 9, True)",
      "metadata": {
        "trusted": true
      },
      "outputs": [],
      "execution_count": null
    },
    {
      "cell_type": "code",
      "source": "def olympic_winner(winner_name, winner_score, **kwargs): #kwargs\n    print(f\"Winner name is {winner_name} & its score is {winner_score}\")\n    for key, value in kwargs.items():\n        print(f\"{key} --> {value}\")",
      "metadata": {
        "trusted": true
      },
      "outputs": [],
      "execution_count": null
    },
    {
      "cell_type": "code",
      "source": "olympic_winner(\"Dawood\", 9, injerires = True, overtime = False)",
      "metadata": {
        "trusted": true
      },
      "outputs": [],
      "execution_count": null
    },
    {
      "cell_type": "markdown",
      "source": "## Dealing with unknown arguments using *args",
      "metadata": {}
    },
    {
      "cell_type": "code",
      "source": "def olympic_winner(winner_name, winner_score, *args): #args\n    print(f\"Winner name is {winner_name} & its score is {winner_score}\")\n    print(args) # return tuple\n    for arg in args:\n        print(f\"{arg}\")",
      "metadata": {
        "trusted": true
      },
      "outputs": [],
      "execution_count": null
    },
    {
      "cell_type": "code",
      "source": "olympic_winner(\"Dawood\", 9, True, False)",
      "metadata": {
        "trusted": true
      },
      "outputs": [],
      "execution_count": null
    },
    {
      "cell_type": "markdown",
      "source": "## Local vs. global variables\n- global: access with in functions too\n- _NOTE: global varaibel should be defined outside the function boday_\n- local: should have limited scope i:e., with i  fucntions\n- _NOTE: only way to get local variable is to give them in \"return\"_",
      "metadata": {}
    },
    {
      "cell_type": "code",
      "source": "global tax_rate\ntax_rate = 0.02\ndef addition():\n    a = 5\n    b = 10\n    total = a + b\n    tax = total * tax_rate\n    return total, tax",
      "metadata": {
        "trusted": true
      },
      "outputs": [],
      "execution_count": null
    },
    {
      "cell_type": "code",
      "source": "addition()",
      "metadata": {
        "trusted": true
      },
      "outputs": [],
      "execution_count": null
    },
    {
      "cell_type": "code",
      "source": "a # because it is a local variable (function)",
      "metadata": {
        "trusted": true
      },
      "outputs": [],
      "execution_count": null
    },
    {
      "cell_type": "code",
      "source": "# eaxmple:II\nglobal s\ns = \"I Love SMIT\"\ndef  function():\n    return s\nprint(function())\nprint(s)",
      "metadata": {
        "trusted": true
      },
      "outputs": [],
      "execution_count": null
    },
    {
      "cell_type": "code",
      "source": "# eaxmple:II\ndef  function():\n    s = \"I Love SMIT\"\n    return s\nfunction()\nprint(s)",
      "metadata": {
        "trusted": true
      },
      "outputs": [],
      "execution_count": null
    },
    {
      "cell_type": "markdown",
      "source": "## Functions within functions",
      "metadata": {}
    },
    {
      "cell_type": "markdown",
      "source": "1. create a function names `func_total_sales` that take atleast 3 parameters i:e., gulshan, stadium, dha\n2. calculate the `total_sales` using above functions\n3. calculate another function names `func_sales_after_tax` is should take one \n    parameter i:e., `total_sales`\n4. make sure `func_sales_after_tax` should be called with in  `func_total_sales` and \n    sales after tax is returned by `func_total_sales`",
      "metadata": {}
    },
    {
      "cell_type": "code",
      "source": "def func_sales_after_tax(total_sales):\n    return total_sales * 0.11\n\ndef func_total_sales(gulshan, stadium, dha):\n    total_sales = gulshan + stadium + dha\n    sales_after_tax = func_sales_after_tax(total_sales)\n    return sales_after_tax\n\n'''\ngulshan = int(input('Enter total sales of your gulshan branch'))\nstadium = int(input('Enter total sales of your stadium branch'))\ndha = int(input('Enter total sales of your dha branch')) \n'''\n\nfunc_total_sales(250,250,500)",
      "metadata": {
        "trusted": true
      },
      "outputs": [],
      "execution_count": null
    },
    {
      "cell_type": "markdown",
      "source": "## While Loops\n- while loop condition & set it to True\n- when condition meets some criteris &  then make that to False",
      "metadata": {}
    },
    {
      "cell_type": "code",
      "source": "clean_countries = ['Pakistan', 'Bangladesh', 'India']",
      "metadata": {
        "trusted": true
      },
      "outputs": [],
      "execution_count": null
    },
    {
      "cell_type": "code",
      "source": "clean_countries = ['Bangladesh', 'India', 'Pakistan', 'China']\n\n# for loop\nusr_input = input(\"Enter Country that you want to check: \")\nfor country in clean_countries:\n    print(f\"Validation check for loop: {country}\")\n    if usr_input == country:\n        print(f\"{usr_input} is a clean counties\")\n        break",
      "metadata": {
        "trusted": true
      },
      "outputs": [],
      "execution_count": null
    },
    {
      "cell_type": "code",
      "source": "'Pakistan' == 'Pakistan'",
      "metadata": {
        "trusted": true
      },
      "outputs": [],
      "execution_count": null
    },
    {
      "cell_type": "code",
      "source": "# cell 1\nclean_countries = ['Bangladesh', 'India', 'Pakistan', 'China']\n\n# cell 2\nwhile_cond = True\nwhile while_cond:\n    usr_input = input(\"Enter Country that you want to check: \")\n    if usr_input in clean_countries:\n        print(f\"{usr_input} is in clean countries list\")\n        while_cond = False",
      "metadata": {
        "trusted": true
      },
      "outputs": [],
      "execution_count": null
    },
    {
      "cell_type": "code",
      "source": "# cell 1\nclean_countries = ['Bangladesh', 'India', 'Pakistan', 'China']\n\n# cell 2\nusr_input = ''\nwhile usr_input != 'q':\n    usr_input = input(\"Enter Country that you want to check: \")\n    if usr_input in clean_countries:\n        print(f\"{usr_input} is in clean countries list\")",
      "metadata": {
        "trusted": true
      },
      "outputs": [],
      "execution_count": null
    }
  ]
}