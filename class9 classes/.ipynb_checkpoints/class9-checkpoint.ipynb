{
 "cells": [
  {
   "cell_type": "code",
   "execution_count": 1,
   "id": "1e7b19b2-e4f5-40e1-af41-8c34fd91c7c2",
   "metadata": {},
   "outputs": [],
   "source": [
    "name = 'Qasim'"
   ]
  },
  {
   "cell_type": "code",
   "execution_count": 3,
   "id": "a84be33d-bf69-443b-ba0e-f11769b19713",
   "metadata": {},
   "outputs": [
    {
     "name": "stdout",
     "output_type": "stream",
     "text": [
      "<class 'str'>\n"
     ]
    }
   ],
   "source": [
    "print(type(name))"
   ]
  },
  {
   "cell_type": "code",
   "execution_count": 4,
   "id": "ced73a3e-3c30-4fed-bf90-fc47111a201b",
   "metadata": {},
   "outputs": [],
   "source": [
    "lst = [1,True, 'Qasim', 1.15]"
   ]
  },
  {
   "cell_type": "code",
   "execution_count": 5,
   "id": "9178753f-90ec-4e88-b58e-b3bc9b25b420",
   "metadata": {},
   "outputs": [
    {
     "name": "stdout",
     "output_type": "stream",
     "text": [
      "<class 'list'>\n"
     ]
    }
   ],
   "source": [
    "print(type(lst))"
   ]
  },
  {
   "cell_type": "code",
   "execution_count": null,
   "id": "30ddb12b-8386-428c-bcc0-83c43b8ebb3a",
   "metadata": {},
   "outputs": [],
   "source": [
    "lst.append('Hassan') \n",
    "\n",
    "# this is an activity --> functionality\n",
    "# METHOD are nothing but a part behavoir of any class\n",
    "# OBJECT: is nothing but a instance that possess the blueprint of class"
   ]
  },
  {
   "cell_type": "code",
   "execution_count": 6,
   "id": "bae3abf3-6be1-4470-9aa3-8182c183bb39",
   "metadata": {},
   "outputs": [],
   "source": [
    "lst2 = [1,True, 'Qasim', 1.15]"
   ]
  },
  {
   "cell_type": "code",
   "execution_count": 8,
   "id": "4ae70362-8d96-49fd-9936-f74b4e8deb60",
   "metadata": {},
   "outputs": [
    {
     "data": {
      "text/plain": [
       "['__add__',\n",
       " '__class__',\n",
       " '__class_getitem__',\n",
       " '__contains__',\n",
       " '__delattr__',\n",
       " '__delitem__',\n",
       " '__dir__',\n",
       " '__doc__',\n",
       " '__eq__',\n",
       " '__format__',\n",
       " '__ge__',\n",
       " '__getattribute__',\n",
       " '__getitem__',\n",
       " '__getstate__',\n",
       " '__gt__',\n",
       " '__hash__',\n",
       " '__iadd__',\n",
       " '__imul__',\n",
       " '__init__',\n",
       " '__init_subclass__',\n",
       " '__iter__',\n",
       " '__le__',\n",
       " '__len__',\n",
       " '__lt__',\n",
       " '__mul__',\n",
       " '__ne__',\n",
       " '__new__',\n",
       " '__reduce__',\n",
       " '__reduce_ex__',\n",
       " '__repr__',\n",
       " '__reversed__',\n",
       " '__rmul__',\n",
       " '__setattr__',\n",
       " '__setitem__',\n",
       " '__sizeof__',\n",
       " '__str__',\n",
       " '__subclasshook__',\n",
       " 'append',\n",
       " 'clear',\n",
       " 'copy',\n",
       " 'count',\n",
       " 'extend',\n",
       " 'index',\n",
       " 'insert',\n",
       " 'pop',\n",
       " 'remove',\n",
       " 'reverse',\n",
       " 'sort']"
      ]
     },
     "execution_count": 8,
     "metadata": {},
     "output_type": "execute_result"
    }
   ],
   "source": [
    "dir(lst2) # __add__ everythign method starts/ends ___ is called dunder methods"
   ]
  },
  {
   "cell_type": "markdown",
   "id": "164270ce-105a-438b-a34d-d6b6f625838b",
   "metadata": {},
   "source": [
    "- ATTTRIBUTES: charactertistcis of class are called attributes\n",
    "- CONSTRUCTOR\n",
    "    - special type of a methods\n",
    "    - that initialize class attributes\n",
    "- CLASS: is a blueprint that posses Attributes (charatertics) and Methods(Behaviors)"
   ]
  },
  {
   "cell_type": "markdown",
   "id": "8b0bf382-db76-4eb4-9adc-6bf1705913e4",
   "metadata": {},
   "source": [
    "## Classes \n",
    "- Constructor(special type of method)\n",
    "- Attributes\n",
    "- Methods\n",
    "- Intialize object"
   ]
  },
  {
   "cell_type": "markdown",
   "id": "dd8b0f82-786a-467f-ad42-289749ac10c1",
   "metadata": {},
   "source": [
    "Examples: Suppose we're Working in automobile (cars) company\n",
    "\n",
    "- class ==> automobiles\n",
    "- attibutes (characteristics) ==> model, year, name, brand, color\n",
    "- method (Behaviors) ==> travel, drtifiting, raching, carry"
   ]
  },
  {
   "cell_type": "code",
   "execution_count": 23,
   "id": "1fa3a316-9812-4299-ae1f-9307114e7594",
   "metadata": {},
   "outputs": [],
   "source": [
    "class automobiles():\n",
    "    #constructor\n",
    "    def __init__(self, model_year, name, brand, color):\n",
    "        self.model_year = model_year # attributes\n",
    "        self.name = name\n",
    "        self.brand = brand\n",
    "        self.color = color\n",
    "    \n",
    "    #method-1\n",
    "    def travel(self, passenger : str) -> None:\n",
    "        print(f\"{passenger} is travelling in {self.name}\") \n",
    "    \n",
    "    #methods-2\n",
    "    def carry(self, weight : float, goods: str) -> None:\n",
    "        print(f\"{self.name} is carrying {goods} of weight {weight}\")"
   ]
  },
  {
   "cell_type": "code",
   "execution_count": 24,
   "id": "c8b603fd-8af5-429d-8b14-b217c1d38c1f",
   "metadata": {},
   "outputs": [],
   "source": [
    "car1 = automobiles(2015, \"Suzuki\", \"Bolan\", \"Black\")"
   ]
  },
  {
   "cell_type": "code",
   "execution_count": 25,
   "id": "8bdfb858-db96-4d21-8b98-b58aca88d00f",
   "metadata": {},
   "outputs": [
    {
     "name": "stdout",
     "output_type": "stream",
     "text": [
      "Suzuki\n",
      "Bolan\n",
      "2015\n",
      "Black\n"
     ]
    }
   ],
   "source": [
    "print(car1.name)\n",
    "print(car1.brand)\n",
    "print(car1.model_year)\n",
    "print(car1.color)"
   ]
  },
  {
   "cell_type": "code",
   "execution_count": 26,
   "id": "a0bab689-a384-49fc-a752-093001366be2",
   "metadata": {},
   "outputs": [
    {
     "name": "stdout",
     "output_type": "stream",
     "text": [
      "Dawood is travelling in Suzuki\n"
     ]
    }
   ],
   "source": [
    "car1.travel(\"Dawood\")"
   ]
  },
  {
   "cell_type": "code",
   "execution_count": 27,
   "id": "175ee4ba-c983-4df9-9b4f-c36b2137a937",
   "metadata": {},
   "outputs": [
    {
     "name": "stdout",
     "output_type": "stream",
     "text": [
      "Suzuki is carrying Halwa of weight 0.5\n"
     ]
    }
   ],
   "source": [
    "car1.carry(0.5 , \"Halwa\")"
   ]
  },
  {
   "cell_type": "markdown",
   "id": "61fa4c3f-26e8-4249-a05d-8666a6026454",
   "metadata": {},
   "source": [
    "#### TASK: create class for saylani and create atleast 2 attributes, 1 method & 2 class variables"
   ]
  },
  {
   "cell_type": "code",
   "execution_count": 62,
   "id": "8fd51b3a-03cf-4266-b0dd-34b3a5a51d2e",
   "metadata": {},
   "outputs": [],
   "source": [
    "class Saylani():\n",
    "    #class variables\n",
    "    saylaniHelpline = '05454 545 545 5'\n",
    "    branchNo = 0\n",
    "    \n",
    "    \n",
    "    #constructor\n",
    "    def __init__(self, name, roll,batch):\n",
    "        self.name = name\n",
    "        self.roll = roll\n",
    "        self.batch = batch\n",
    "        Saylani.branchNo +=1\n",
    "    \n",
    "    #method-1\n",
    "    def print_card(self) -> None:\n",
    "        card = f\"\"\"\n",
    "            Name: {self.name}\n",
    "            Roll:  {self.roll}\n",
    "            Batch:  {self.batch}\n",
    "        \"\"\"\n",
    "        print(card)\n"
   ]
  },
  {
   "cell_type": "code",
   "execution_count": 63,
   "id": "774ca32f-437e-4efe-817d-c65ae3160973",
   "metadata": {},
   "outputs": [
    {
     "name": "stdout",
     "output_type": "stream",
     "text": [
      "Current branch number 0\n",
      "After creating object branch number 1\n",
      "If you an issue call on 05454 545 545 5\n"
     ]
    }
   ],
   "source": [
    "print(f'Current branch number {Saylani.branchNo}')\n",
    "saylani= Saylani(\"Aftab Hussain\",\"Python--001\",3)\n",
    "print(f'After creating object branch number {Saylani.branchNo}')\n",
    "print(f'If you an issue call on {Saylani.saylaniHelpline}')"
   ]
  },
  {
   "cell_type": "code",
   "execution_count": 31,
   "id": "1f5d4e0a-4124-4525-bd6c-8f6cadaa9887",
   "metadata": {},
   "outputs": [
    {
     "name": "stdout",
     "output_type": "stream",
     "text": [
      "\n",
      "            Name: Aftab Hussain\n",
      "            Roll:  Python--001\n",
      "            Batch:  3\n",
      "        \n"
     ]
    }
   ],
   "source": [
    "saylani.print_card()"
   ]
  },
  {
   "cell_type": "markdown",
   "id": "204c5a15-b69c-4d66-a5a8-80804e2718fa",
   "metadata": {},
   "source": [
    "Example: 02\n",
    "\n",
    "- class: teachers\n",
    "- attributes: name, course, timings\n",
    "- methods: details, teaching"
   ]
  },
  {
   "cell_type": "code",
   "execution_count": 51,
   "id": "aee050af-fc0f-42f5-91a1-50711d9bd221",
   "metadata": {},
   "outputs": [],
   "source": [
    "class teacher():\n",
    "    # class variables\n",
    "    counter = 0\n",
    "    oraganization = \"Saylani Mass IT Training\"\n",
    "    \n",
    "    #constructor\n",
    "    def __init__(self, name, courses, timings):\n",
    "        self.name = name\n",
    "        self.courses = courses\n",
    "        self.timings = timings\n",
    "        teacher.counter +=1\n",
    "\n",
    "    #methods\n",
    "    def details(self):\n",
    "        print(f\" Teacher {self.name} is teaching {self.courses} at {self.timings}\")\n",
    "    def teaching(self, course):\n",
    "        print(f\"right now course {self.name} is teaching {course}\")  "
   ]
  },
  {
   "cell_type": "code",
   "execution_count": 52,
   "id": "eae36a9f-022e-4fee-8f88-cbd80d0abbb3",
   "metadata": {},
   "outputs": [
    {
     "data": {
      "text/plain": [
       "1"
      ]
     },
     "execution_count": 52,
     "metadata": {},
     "output_type": "execute_result"
    }
   ],
   "source": [
    "obj1 = teacher(\"Faisal\", \"Python Programming\", \"9to11\")\n",
    "obj1.counter"
   ]
  },
  {
   "cell_type": "code",
   "execution_count": 53,
   "id": "0d43aaa8-583d-4988-81b2-c5317636709b",
   "metadata": {},
   "outputs": [
    {
     "name": "stdout",
     "output_type": "stream",
     "text": [
      "2\n",
      "Saylani Mass IT Training\n"
     ]
    }
   ],
   "source": [
    "obj2 = teacher(\"Ayan\", \"Data Engineering\", \"2to5\")\n",
    "print(obj2.counter)\n",
    "print(obj2.oraganization)"
   ]
  },
  {
   "cell_type": "code",
   "execution_count": 56,
   "id": "a11a3bc2-96f3-452a-a4db-37a51f9012f6",
   "metadata": {},
   "outputs": [
    {
     "name": "stdout",
     "output_type": "stream",
     "text": [
      "2\n",
      "Saylani Mass IT Training\n"
     ]
    }
   ],
   "source": [
    "# direct calling\n",
    "print(teacher.counter)\n",
    "print(teacher.oraganization)"
   ]
  },
  {
   "cell_type": "code",
   "execution_count": null,
   "id": "12ea6f7e-3373-4128-9de7-ce0d0b4949b9",
   "metadata": {},
   "outputs": [],
   "source": [
    "OOP --> object oriented programming\n",
    "\n",
    "Pillars of OOP:\n",
    "1- Enheritance (\n",
    "2- Polymorphism\n",
    "3- Abstraction\n",
    "4- Encalsualtion"
   ]
  }
 ],
 "metadata": {
  "kernelspec": {
   "display_name": "Python 3 (ipykernel)",
   "language": "python",
   "name": "python3"
  },
  "language_info": {
   "codemirror_mode": {
    "name": "ipython",
    "version": 3
   },
   "file_extension": ".py",
   "mimetype": "text/x-python",
   "name": "python",
   "nbconvert_exporter": "python",
   "pygments_lexer": "ipython3",
   "version": "3.12.4"
  }
 },
 "nbformat": 4,
 "nbformat_minor": 5
}
